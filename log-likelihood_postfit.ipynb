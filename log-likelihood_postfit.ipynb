{
 "cells": [
  {
   "cell_type": "code",
   "execution_count": 104,
   "metadata": {},
   "outputs": [
    {
     "name": "stdout",
     "output_type": "stream",
     "text": [
      "The autoreload extension is already loaded. To reload it, use:\n",
      "  %reload_ext autoreload\n"
     ]
    }
   ],
   "source": [
    "%load_ext autoreload\n",
    "%autoreload 2\n",
    "\n",
    "#Misc\n",
    "import time, os, sys, pdb\n",
    "from glob import glob\n",
    "from fnmatch import fnmatch\n",
    "\n",
    "#Base\n",
    "import numpy as np\n",
    "import pandas as pd\n",
    "import scipy.stats as st\n",
    "\n",
    "#Save\n",
    "import json\n",
    "import scipy.io as sio\n",
    "import h5py\n",
    "import io_dict_to_hdf5 as ioh5\n",
    "\n",
    "#Plot\n",
    "import matplotlib.pyplot as plt\n",
    "import seaborn as sns\n",
    "from matplotlib.backends.backend_pdf import PdfPages\n",
    "# cmap = usrplt.gradient_cmap(usrplt.color_palette)\n",
    "sns.set_style(\"ticks\")\n",
    "\n",
    "#Model\n",
    "import ssm\n",
    "\n",
    "#User\n",
    "import util\n",
    "import plotting as usrplt\n"
   ]
  },
  {
   "cell_type": "code",
   "execution_count": null,
   "metadata": {},
   "outputs": [],
   "source": [
    "##===== Read in Data =====##\n",
    "data_df = pd.read_hdf('./data/jumping_data_102220.h5')\n",
    "nTrials = len(data_df)\n",
    "data_df.head()"
   ]
  },
  {
   "cell_type": "code",
   "execution_count": 101,
   "metadata": {},
   "outputs": [],
   "source": [
    "#DLC tracking confidence threshold at which to mask out data\n",
    "confidence_threshold = 0.8\n",
    "\n",
    "#Loop over trials and reformat data for ARHMM\n",
    "data_list = []; mask_list = []\n",
    "for iTrial in range(nTrials):\n",
    "    #Get coordinates of Take-Off platform\n",
    "    xc = np.nanmean(data_df.loc[iTrial]['Side TakeFL x'])\n",
    "    yc = np.nanmean(data_df.loc[iTrial]['Side TakeFL y'])\n",
    "    \n",
    "    xy_list = []; ll_list = []\n",
    "    for ii, ptstr in enumerate(['Nose','LEye','LEar']):\n",
    "        x = data_df.loc[iTrial]['Side {} x'.format(ptstr)]\n",
    "        y = data_df.loc[iTrial]['Side {} y'.format(ptstr)]\n",
    "        llhood = data_df.loc[iTrial]['Side {} likelihood'.format(ptstr)]\n",
    "        \n",
    "        #Coordinates relative to take-off platform\n",
    "        xy_list.append((x-xc,y-yc))\n",
    "        \n",
    "        #Create mask for points that have a confidence lower than the given threshold\n",
    "        mask = llhood > confidence_threshold\n",
    "        ll_list.append((mask,mask))\n",
    "    \n",
    "    tmp = np.vstack(xy_list).T; data_list.append(tmp[2:-2,:])\n",
    "    tmp = np.vstack(ll_list).T; mask_list.append(tmp[2:-2,:])\n",
    "\n"
   ]
  },
  {
   "cell_type": "code",
   "execution_count": null,
   "metadata": {},
   "outputs": [],
   "source": [
    "BaseDir = './results/ARHMM/Side_NEE-all_mice-2020-10-24_1310/'\n",
    "kDirs = sorted(os.listdir(BaseDir))[1:-1]\n",
    "\n",
    "ll_heldout = np.zeros((len(kDirs),6))\n",
    "ll_training = np.zeros((len(kDirs),6))\n",
    "Ks = np.arange(4,25,2).tolist()\n",
    "\n",
    "for ii, kd in enumerate(kDirs):\n",
    "    print('\\n{}:'.format(kd),end='\\t')\n",
    "    \n",
    "    #Load log-likelihood results for full fit\n",
    "    fpath = glob(os.path.join(BaseDir,kd,'fit_parameters*.h5'))[0]\n",
    "    data = ioh5.load(fpath)\n",
    "    \n",
    "    #Get K and directory to of kfolds\n",
    "    K = int(kd[-2:])\n",
    "    KDir = os.path.join(BaseDir,kd)\n",
    "    \n",
    "    ll_heldout[ii,-1] = data['ll_heldout_perstep']\n",
    "    ll_training[ii,-1] = data['ll_training_perstep']\n",
    "    \n",
    "#     #Load MAP sequence results\n",
    "#     fpath = glob(os.path.join(KDir,'MAP_seqs*.h5'))[0]\n",
    "#     trMAPs, trPosteriors, trMasks, arhmm_params, opt = ioh5.load_MAP_seqs_h5(fpath)\n",
    "#     opt['MAP_threshold'] = 0.75\n",
    "#     trMasks2 = []\n",
    "#     for post in trPosteriors:\n",
    "#         max_prob = np.max(post,axis=1)\n",
    "#         trMasks2.append(max_prob > opt['MAP_threshold'])\n",
    "    \n",
    "#     #Create temporary ARHMM for plotting functions \n",
    "#     arhmm = ssm.HMM(K, 6, observations='autoregressive',transitions='standard')\n",
    "#     arhmm.init_state_distn.params = arhmm_params['init_state_distn']['P0']\n",
    "#     arhmm.transitions.params = arhmm_params['transitions']['log_Ps']\n",
    "#     arhmm.observations.As = arhmm_params['observations']['As']\n",
    "#     arhmm.observations.bs = arhmm_params['observations']['bs']\n",
    "          \n",
    "#     ## Calculate & plot state duration and state usage \n",
    "#     state_duration_list, state_startend_list, state_usage = util.get_state_durations(trMAPs, trMasks2, K)\n",
    "#     usrplt.plot_state_durations2(state_duration_list,state_usage, K,\n",
    "#                             SAVEFIG=True,PlotDir=KDir,fname='state-durations_ARHMM-{}.pdf'.format(kd))\n",
    "\n",
    "#     ## Plot example trajectories of actual trajectories for each state\n",
    "#     usrplt.plot_example_trajectories(state_duration_list,state_startend_list,data_list, arhmm,\n",
    "#                                     SAVEFIG=True,PlotDir=KDir,fname='state-trajectories_data_ARHMM-{}.pdf'.format(kd))\n",
    "\n",
    "#     ## Plot example trajectories simulated from the model for each state\n",
    "#     usrplt.plot_example_trajectories(state_duration_list,state_startend_list,data_list, arhmm, simulated=True,\n",
    "#                                     SAVEFIG=True,PlotDir=KDir,fname='state-trajectories_simulated_ARHMM-{}.pdf'.format(kd))\n",
    "    \n",
    "#     usrplt.plot_example_state_sequences(trMAPs, trMasks2, data_list, K,\n",
    "#                                 SAVEFIG=True,PlotDir=KDir,fname='state-sequences_ARHMM-{}.pdf'.format(kd))\n",
    "    \n",
    "#     ioh5.save(os.path.join(KDir, 'MAP_seqs-ARHMM-{}.h5'.format(kd)), \n",
    "#       {'trMAPs':trMAPs, 'trPosteriors':trPosteriors,'trMasks':trMasks2, \n",
    "#        'arhmm_params' : arhmm_params,'state_usage':state_usage, \n",
    "#        'hyperparams' : opt})\n",
    "    \n",
    "    kfold_dirs = sorted(glob(os.path.join(KDir,'kFold_*')))\n",
    "#     pdb.set_trace()\n",
    "    for jj,kfold in enumerate(kfold_dirs):\n",
    "        fpath = glob(os.path.join(kfold,'fit_parameters*.h5'))[0]\n",
    "        data = ioh5.load(fpath)\n",
    "    \n",
    "        ll_heldout[ii,jj] = data['ll_heldout_perstep']\n",
    "        ll_training[ii,jj] = data['ll_training_perstep']"
   ]
  },
  {
   "cell_type": "code",
   "execution_count": null,
   "metadata": {},
   "outputs": [],
   "source": [
    "BaseDir = './results/ARHMM/Side_NEE-all_mice-2020-10-25_0940/'\n",
    "kDirs = sorted(os.listdir(BaseDir))[1:]\n",
    "\n",
    "ll_heldout_recurrent = np.zeros((len(kDirs),6)); ll_heldout_recurrent[:] = np.nan\n",
    "ll_training_recurrent = np.zeros((len(kDirs),6))\n",
    "Ks_recurrent = []\n",
    "kDirs"
   ]
  },
  {
   "cell_type": "code",
   "execution_count": null,
   "metadata": {},
   "outputs": [],
   "source": [
    "for ii, kd in enumerate(kDirs):\n",
    "    print('\\n{}:'.format(kd),end='\\t')\n",
    "    \n",
    "#     #Load log-likelihood results for full fit\n",
    "#     fpath = glob(os.path.join(BaseDir,kd,'fit_parameters*.h5'))[0]\n",
    "#     data = ioh5.load(fpath)\n",
    "    \n",
    "    #Get K and directory to of kfolds\n",
    "    K = int(kd[-2:]); Ks_recurrent.append(K)\n",
    "    KDir = os.path.join(BaseDir,kd)\n",
    "    \n",
    "#     ll_heldout_recurrent[ii,-1] = data['ll_heldout_perstep']\n",
    "#     ll_training_recurrent[ii,-1] = data['ll_training_perstep']\n",
    "       \n",
    "    kfold_dirs = sorted(glob(os.path.join(KDir,'kFold_*')))\n",
    "#     pdb.set_trace()\n",
    "    for jj,kfold in enumerate(kfold_dirs):\n",
    "        fpath = glob(os.path.join(kfold,'fit_parameters*.h5'))[0]\n",
    "        data = ioh5.load(fpath)\n",
    "    \n",
    "        ll_heldout_recurrent[ii,jj] = data['ll_heldout_perstep']\n",
    "        ll_training_recurrent[ii,jj] = data['ll_training_perstep']"
   ]
  },
  {
   "cell_type": "code",
   "execution_count": null,
   "metadata": {},
   "outputs": [],
   "source": [
    "fig, ax = plt.subplots(figsize=(8, 5))\n",
    "\n",
    "# ax.plot(Ks, np.mean(ll_training[:,:-1], axis=1), 'x-',color=usrplt.cc[0], markersize=8,label='Mean across training kfolds, ARHMM')\n",
    "ax.plot(Ks, np.mean(ll_heldout[:,:-1], axis=1), 'x-',color=usrplt.cc[0], markersize=8,label='Mean across heldout kfolds, ARHMM ') \n",
    "\n",
    "# ax.plot(Ks_recurrent, np.mean(ll_training_recurrent[:,:-1], axis=1), 'o-',color=usrplt.cc[0], markersize=8,label='Mean across training kfolds, recurrent-ARHMM')\n",
    "ax.plot(Ks_recurrent, np.nanmean(ll_heldout_recurrent[:,:-1], axis=1), 'o-',color=usrplt.cc[1], markersize=8,label='Mean across heldout kfolds, recurrent-ARHMM ')    \n",
    "ax.set_ylabel('log-likelihood per time-step')\n",
    "ax.set_xlabel('# HMM states (K)')\n",
    "ax.set_xticks(Ks)\n",
    "ax.legend()\n",
    "\n",
    "ax.set_title('Cross-Validated Log-Likelihood')\n",
    "plt.savefig('./plots/ARHMM_xvalidation.png')"
   ]
  },
  {
   "cell_type": "code",
   "execution_count": null,
   "metadata": {},
   "outputs": [],
   "source": [
    "np.diff(np.mean(ll_training[:,:-1], axis=1))"
   ]
  },
  {
   "cell_type": "code",
   "execution_count": null,
   "metadata": {},
   "outputs": [],
   "source": [
    "fig, ax = plt.subplots(figsize=(8, 5))\n",
    "\n",
    "# ax.plot(Ks[1:], np.diff(np.mean(ll_training[:,:-1], axis=1)), 'x-',color=usrplt.cc[0], markersize=8,label='Mean across training kfolds, ARHMM')\n",
    "ax.plot(Ks[1:], np.diff(np.mean(ll_heldout[:,:-1], axis=1)), 'x-',color=usrplt.cc[0], markersize=8,label='Mean across heldout kfolds, ARHMM ') \n",
    "\n",
    "# ax.plot(Ks_recurrent[1:], np.diff(np.mean(ll_training_recurrent[:,:-1], axis=1)), 'o-',color=usrplt.cc[0], markersize=8,label='Mean across training kfolds, recurrent-ARHMM')\n",
    "ax.plot(Ks_recurrent[1:], np.diff(np.mean(ll_heldout_recurrent[:,:-1], axis=1)), 'o-',color=usrplt.cc[1], markersize=8,label='Mean across heldout kfolds, recurrent-ARHMM ')    \n",
    "ax.set_ylabel('\\u0394-(log-likelihood per time-step)')\n",
    "ax.set_xlabel('# HMM states (K)')\n",
    "ax.set_xticks(Ks[1:])\n",
    "# ax.set_xticklabels(['{}->{}'.format(Ks[i-1],Ks[i]) for i in range(1,len(Ks))],rotation=45)\n",
    "ax.legend()\n",
    "\n",
    "ax.set_title('Cross-Validated \\u0394-(Log-Likelihood)')\n",
    "plt.savefig('./plots/ARHMM_delta_xvalidation.png')"
   ]
  },
  {
   "cell_type": "code",
   "execution_count": null,
   "metadata": {},
   "outputs": [],
   "source": []
  },
  {
   "cell_type": "code",
   "execution_count": null,
   "metadata": {},
   "outputs": [],
   "source": []
  },
  {
   "cell_type": "code",
   "execution_count": null,
   "metadata": {},
   "outputs": [],
   "source": [
    "BaseDir = './results/ARHMM/Side_NEE-all_mice-2020-10-24_1310/'\n",
    "\n",
    "fpath = os.path.join(BaseDir,'K_20','MAP_seqs-ARHMM-K_20.h5')\n",
    "\n",
    "results = ioh5.load(fpath)"
   ]
  },
  {
   "cell_type": "code",
   "execution_count": null,
   "metadata": {},
   "outputs": [],
   "source": [
    "MAP_threshold = 0.7\n",
    "for iTrial in range(15):\n",
    "    nT, K = results['trPosteriors'][str(iTrial)].shape\n",
    "    mPosterior = np.max(results['trPosteriors'][str(iTrial)],axis=1)\n",
    "    fig, ax = plt.subplots(figsize=(16,8))\n",
    "    plt.plot(results['trPosteriors'][str(iTrial)],'-',lw=2)\n",
    "    plt.plot(mPosterior,'-k',lw=3)\n",
    "    ax.hlines(0.7,*ax.get_xlim(),ls='--')\n",
    "    ax.set_title('{:.2f}'.format(np.sum(mPosterior > MAP_threshold)/nT))"
   ]
  },
  {
   "cell_type": "code",
   "execution_count": null,
   "metadata": {},
   "outputs": [],
   "source": [
    "results['trMasks']['1']"
   ]
  },
  {
   "cell_type": "code",
   "execution_count": 6,
   "metadata": {},
   "outputs": [
    {
     "data": {
      "text/plain": [
       "['Kappa_1e+04', 'Kappa_1e+05', 'Kappa_1e+06', 'Kappa_1e+07', 'Kappa_5e+05']"
      ]
     },
     "execution_count": 6,
     "metadata": {},
     "output_type": "execute_result"
    }
   ],
   "source": [
    "BaseDir = './results/ARHMM/Side_NEE-all_mice-2020-10-29_1122/'\n",
    "kappaDirs = sorted(os.listdir(BaseDir))[2:]\n",
    "kappaDirs"
   ]
  },
  {
   "cell_type": "code",
   "execution_count": 8,
   "metadata": {},
   "outputs": [],
   "source": [
    "kappas = np.array([1E4,5E5,1E6,1E7])\n",
    "ll_heldout = np.zeros((len(kappas),6))\n",
    "ll_training = np.zeros((len(kappas),6))\n"
   ]
  },
  {
   "cell_type": "code",
   "execution_count": 11,
   "metadata": {},
   "outputs": [
    {
     "name": "stdout",
     "output_type": "stream",
     "text": [
      "\n",
      "10000.0:\t"
     ]
    },
    {
     "name": "stderr",
     "output_type": "stream",
     "text": [
      "/home/dwyrick/projects/jumping_behavior/io_dict_to_hdf5.py:66: H5pyDeprecationWarning: dataset.value has been deprecated. Use dataset[()] instead.\n",
      "  ans[key] = item.value\n"
     ]
    },
    {
     "name": "stdout",
     "output_type": "stream",
     "text": [
      "\n",
      "500000.0:\t\n",
      "1000000.0:\t\n",
      "10000000.0:\t"
     ]
    }
   ],
   "source": [
    "for ii, kappa in enumerate(kappas):\n",
    "    print('\\n{}:'.format(kappa),end='\\t')\n",
    "    KDir = os.path.join(BaseDir,'Kappa_{:.0e}'.format(kappa))\n",
    "    #Load log-likelihood results for full fit\n",
    "    fpath = glob(os.path.join(KDir,'fit_parameters*.h5'))[0]\n",
    "    data = ioh5.load(fpath)\n",
    "       \n",
    "    ll_heldout[ii,-1] = data['ll_heldout_perstep']\n",
    "    ll_training[ii,-1] = data['ll_training_perstep']\n",
    "    \n",
    "#     #Load MAP sequence results\n",
    "#     fpath = glob(os.path.join(KDir,'MAP_seqs*.h5'))[0]\n",
    "#     trMAPs, trPosteriors, trMasks, arhmm_params, opt = ioh5.load_MAP_seqs_h5(fpath)\n",
    "#     opt['MAP_threshold'] = 0.75\n",
    "#     trMasks2 = []\n",
    "#     for post in trPosteriors:\n",
    "#         max_prob = np.max(post,axis=1)\n",
    "#         trMasks2.append(max_prob > opt['MAP_threshold'])\n",
    "    \n",
    "#     #Create temporary ARHMM for plotting functions \n",
    "#     arhmm = ssm.HMM(K, 6, observations='autoregressive',transitions='standard')\n",
    "#     arhmm.init_state_distn.params = arhmm_params['init_state_distn']['P0']\n",
    "#     arhmm.transitions.params = arhmm_params['transitions']['log_Ps']\n",
    "#     arhmm.observations.As = arhmm_params['observations']['As']\n",
    "#     arhmm.observations.bs = arhmm_params['observations']['bs']\n",
    "          \n",
    "#     ## Calculate & plot state duration and state usage \n",
    "#     state_duration_list, state_startend_list, state_usage = util.get_state_durations(trMAPs, trMasks2, K)\n",
    "#     usrplt.plot_state_durations2(state_duration_list,state_usage, K,\n",
    "#                             SAVEFIG=True,PlotDir=KDir,fname='state-durations_ARHMM-{}.pdf'.format(kd))\n",
    "\n",
    "#     ## Plot example trajectories of actual trajectories for each state\n",
    "#     usrplt.plot_example_trajectories(state_duration_list,state_startend_list,data_list, arhmm,\n",
    "#                                     SAVEFIG=True,PlotDir=KDir,fname='state-trajectories_data_ARHMM-{}.pdf'.format(kd))\n",
    "\n",
    "#     ## Plot example trajectories simulated from the model for each state\n",
    "#     usrplt.plot_example_trajectories(state_duration_list,state_startend_list,data_list, arhmm, simulated=True,\n",
    "#                                     SAVEFIG=True,PlotDir=KDir,fname='state-trajectories_simulated_ARHMM-{}.pdf'.format(kd))\n",
    "    \n",
    "#     usrplt.plot_example_state_sequences(trMAPs, trMasks2, data_list, K,\n",
    "#                                 SAVEFIG=True,PlotDir=KDir,fname='state-sequences_ARHMM-{}.pdf'.format(kd))\n",
    "    \n",
    "#     ioh5.save(os.path.join(KDir, 'MAP_seqs-ARHMM-{}.h5'.format(kd)), \n",
    "#       {'trMAPs':trMAPs, 'trPosteriors':trPosteriors,'trMasks':trMasks2, \n",
    "#        'arhmm_params' : arhmm_params,'state_usage':state_usage, \n",
    "#        'hyperparams' : opt})\n",
    "    \n",
    "    kfold_dirs = sorted(glob(os.path.join(KDir,'kFold_*')))\n",
    "#     pdb.set_trace()\n",
    "    for jj,kfold in enumerate(kfold_dirs):\n",
    "        fpath = glob(os.path.join(kfold,'fit_parameters*.h5'))[0]\n",
    "        data = ioh5.load(fpath)\n",
    "    \n",
    "        ll_heldout[ii,jj] = data['ll_heldout_perstep']\n",
    "        ll_training[ii,jj] = data['ll_training_perstep']"
   ]
  },
  {
   "cell_type": "code",
   "execution_count": 13,
   "metadata": {},
   "outputs": [
    {
     "data": {
      "text/plain": [
       "Text(0.5, 1.0, 'Cross-Validated Log-Likelihood')"
      ]
     },
     "execution_count": 13,
     "metadata": {},
     "output_type": "execute_result"
    },
    {
     "data": {
      "image/png": "[encoded data removed]",
      "text/plain": [
       "<Figure size 576x360 with 1 Axes>"
      ]
     },
     "metadata": {},
     "output_type": "display_data"
    }
   ],
   "source": [
    "fig, ax = plt.subplots(figsize=(8, 5))\n",
    "\n",
    "# ax.plot(Ks, np.mean(ll_training[:,:-1], axis=1), 'x-',color=usrplt.cc[0], markersize=8,label='Mean across training kfolds, ARHMM')\n",
    "ax.plot(kappas, np.mean(ll_heldout[:,:-1], axis=1), 'x-',color=usrplt.cc[0], markersize=8,label='Mean across heldout kfolds, ARHMM ') \n",
    "\n",
    "# ax.plot(Ks_recurrent, np.mean(ll_training_recurrent[:,:-1], axis=1), 'o-',color=usrplt.cc[0], markersize=8,label='Mean across training kfolds, recurrent-ARHMM')\n",
    "# ax.plot(Ks_recurrent, np.nanmean(ll_heldout_recurrent[:,:-1], axis=1), 'o-',color=usrplt.cc[1], markersize=8,label='Mean across heldout kfolds, recurrent-ARHMM ')    \n",
    "ax.set_ylabel('log-likelihood per time-step')\n",
    "ax.set_xlabel('# HMM Stickiness (kappa)')\n",
    "ax.set_xticks(kappas)\n",
    "ax.set_xscale('log')\n",
    "ax.legend()\n",
    "\n",
    "ax.set_title('Cross-Validated Log-Likelihood')\n",
    "# plt.savefig('./plots/ARHMM_xvalidation_kappa.png')"
   ]
  },
  {
   "cell_type": "code",
   "execution_count": 69,
   "metadata": {},
   "outputs": [
    {
     "name": "stdout",
     "output_type": "stream",
     "text": [
      "\n",
      "10000.0:\t"
     ]
    },
    {
     "name": "stderr",
     "output_type": "stream",
     "text": [
      "/home/dwyrick/projects/jumping_behavior/io_dict_to_hdf5.py:66: H5pyDeprecationWarning: dataset.value has been deprecated. Use dataset[()] instead.\n",
      "  ans[key] = item.value\n"
     ]
    },
    {
     "name": "stdout",
     "output_type": "stream",
     "text": [
      "\n",
      "500000.0:\t"
     ]
    },
    {
     "name": "stderr",
     "output_type": "stream",
     "text": [
      "/home/dwyrick/projects/jumping_behavior/io_dict_to_hdf5.py:66: H5pyDeprecationWarning: dataset.value has been deprecated. Use dataset[()] instead.\n",
      "  ans[key] = item.value\n"
     ]
    },
    {
     "name": "stdout",
     "output_type": "stream",
     "text": [
      "\n",
      "1000000.0:\t"
     ]
    },
    {
     "name": "stderr",
     "output_type": "stream",
     "text": [
      "/home/dwyrick/projects/jumping_behavior/io_dict_to_hdf5.py:66: H5pyDeprecationWarning: dataset.value has been deprecated. Use dataset[()] instead.\n",
      "  ans[key] = item.value\n"
     ]
    },
    {
     "name": "stdout",
     "output_type": "stream",
     "text": [
      "\n",
      "10000000.0:\t"
     ]
    },
    {
     "name": "stderr",
     "output_type": "stream",
     "text": [
      "/home/dwyrick/projects/jumping_behavior/io_dict_to_hdf5.py:66: H5pyDeprecationWarning: dataset.value has been deprecated. Use dataset[()] instead.\n",
      "  ans[key] = item.value\n"
     ]
    }
   ],
   "source": [
    "K = 12\n",
    "for ii, kappa in enumerate(kappas):\n",
    "    print('\\n{}:'.format(kappa),end='\\t')\n",
    "    KDir = os.path.join(BaseDir,'Kappa_{:.0e}'.format(kappa))\n",
    "    \n",
    "    #Load MAP sequence results\n",
    "    fpath = glob(os.path.join(KDir,'MAP_seqs*.h5'))[0]\n",
    "    trMAPs, trPosteriors, trMasks, arhmm_params, opt = ioh5.load_MAP_seqs_h5(fpath)\n",
    "\n",
    "    #Create temporary ARHMM for plotting functions \n",
    "    arhmm = ssm.HMM(K, 6, observations='autoregressive',transitions='standard')\n",
    "    arhmm.init_state_distn.params = arhmm_params['init_state_distn']['P0']\n",
    "    arhmm.transitions.params = arhmm_params['transitions']['log_Ps']\n",
    "    arhmm.observations.As = arhmm_params['observations']['As']\n",
    "    arhmm.observations.bs = arhmm_params['observations']['bs']\n",
    "\n",
    "    state_duration_list, state_startend_list, mean_state_durations, state_usage = util.get_state_durations(trMAPs, trMasks, K)\n",
    "\n",
    "    ## Plot example trajectories of actual trajectories for each state\n",
    "    usrplt.plot_example_trajectories(state_duration_list,state_startend_list,mean_state_durations, data_list, arhmm,longest=False,\n",
    "                                    SAVEFIG=True,PlotDir=KDir,fname='state-trajectories_data_varying-length_ARHMM_K-12_Kappa-{:0e}.pdf'.format(kappa))\n",
    "    \n",
    "    ## Plot example trajectories simulated from the model for each state\n",
    "    usrplt.plot_example_trajectories(state_duration_list,state_startend_list,mean_state_durations,data_list, arhmm,longest=False, simulated=True,\n",
    "                                SAVEFIG=True,PlotDir=KDir,fname='state-trajectories_simulated_varying-length_ARHMM_K-12_Kappa-{:0e}.pdf'.format(kappa))"
   ]
  },
  {
   "cell_type": "code",
   "execution_count": 21,
   "metadata": {},
   "outputs": [],
   "source": [
    "arhmm = ssm.HMM(K, 6, observations='autoregressive',transitions='standard')\n",
    "arhmm.init_state_distn.params = arhmm_params['init_state_distn']['P0']\n",
    "arhmm.transitions.params = arhmm_params['transitions']['log_Ps']\n",
    "arhmm.observations.As = arhmm_params['observations']['As']\n",
    "arhmm.observations.bs = arhmm_params['observations']['bs']"
   ]
  },
  {
   "cell_type": "code",
   "execution_count": 51,
   "metadata": {},
   "outputs": [],
   "source": [
    "state_duration_list, state_startend_list, mean_state_durations, state_usage = util.get_state_durations(trMAPs, trMasks, K)"
   ]
  },
  {
   "cell_type": "code",
   "execution_count": 64,
   "metadata": {},
   "outputs": [
    {
     "data": {
      "text/plain": [
       "1250.0"
      ]
     },
     "execution_count": 64,
     "metadata": {},
     "output_type": "execute_result"
    }
   ],
   "source": [
    "75*1E3/60"
   ]
  },
  {
   "cell_type": "code",
   "execution_count": 68,
   "metadata": {},
   "outputs": [],
   "source": [
    "## Plot example trajectories of actual trajectories for each state\n",
    "usrplt.plot_example_trajectories(state_duration_list,state_startend_list,mean_state_durations, data_list, arhmm,longest=False,\n",
    "                                SAVEFIG=True,PlotDir=KDir,fname='state-trajectories_data_varying-length_ARHMM_K-12_Kappa-{:0e}.pdf'.format(kappa))\n",
    "\n",
    "usrplt.plot_example_trajectories(state_duration_list,state_startend_list,mean_state_durations,data_list, arhmm,longest=False, simulated=True,\n",
    "                                SAVEFIG=True,PlotDir=KDir,fname='state-trajectories_simulated_varying-length_ARHMM_K-12_Kappa-{:0e}.pdf'.format(kappa))"
   ]
  },
  {
   "cell_type": "code",
   "execution_count": 25,
   "metadata": {},
   "outputs": [],
   "source": [
    "nTrials = len(data_list)\n",
    "\n",
    "# Calculate the max state duration for each state on each trial\n",
    "state_durations_max = np.zeros((nTrials,K))\n",
    "for iTrial, sd_trial in enumerate(state_duration_list):\n",
    "    for iState, sd in enumerate(sd_trial[:-1]):\n",
    "        if len(sd) == 0:\n",
    "            state_durations_max[iTrial,iState] = 0\n",
    "        else:\n",
    "            state_durations_max[iTrial,iState] = np.median(sd)"
   ]
  },
  {
   "cell_type": "code",
   "execution_count": 18,
   "metadata": {},
   "outputs": [],
   "source": [
    "nSeg = len(state_durations_max[:,iState])\n",
    "indy = np.random.randint(0,nSeg)"
   ]
  },
  {
   "cell_type": "code",
   "execution_count": 30,
   "metadata": {},
   "outputs": [
    {
     "data": {
      "text/plain": [
       "array([3368, 3312, 3602, ..., 1944, 1947,    0])"
      ]
     },
     "execution_count": 30,
     "metadata": {},
     "output_type": "execute_result"
    }
   ],
   "source": [
    "np.argsort(state_durations_max[:,0],axis=0)[::-1]"
   ]
  },
  {
   "cell_type": "code",
   "execution_count": null,
   "metadata": {},
   "outputs": [],
   "source": []
  },
  {
   "cell_type": "code",
   "execution_count": 86,
   "metadata": {},
   "outputs": [],
   "source": [
    "data_df = pd.read_hdf('./data/jumping_data_102220.h5')\n",
    "nTrials = len(data_df)\n",
    "    \n",
    "#DLC tracking confidence threshold at which to mask out data\n",
    "confidence_threshold = 0.8\n",
    "dsf = 3\n",
    "#Loop over trials and reformat data for ARHMM\n",
    "data_list_ds = []; mask_list_ds = []\n",
    "data_list = []; mask_list = []\n",
    "for iTrial in range(nTrials):\n",
    "    #Get coordinates of Take-Off platform\n",
    "    xc = np.nanmean(data_df.loc[iTrial]['Side TakeFL x'])\n",
    "    yc = np.nanmean(data_df.loc[iTrial]['Side TakeFL y'])\n",
    "    \n",
    "    xy_list = []; ll_list = []\n",
    "    for ii, ptstr in enumerate(['Nose','LEye','LEar']):\n",
    "        x = data_df.loc[iTrial]['Side {} x'.format(ptstr)]\n",
    "        y = data_df.loc[iTrial]['Side {} y'.format(ptstr)]\n",
    "        llhood = data_df.loc[iTrial]['Side {} likelihood'.format(ptstr)]\n",
    "        \n",
    "        #Coordinates relative to take-off platform\n",
    "        xy_list.append((x-xc,y-yc))\n",
    "        \n",
    "        #Create mask for points that have a confidence lower than the given threshold\n",
    "        mask = llhood > confidence_threshold\n",
    "        ll_list.append((mask,mask))\n",
    "    \n",
    "    tmp = np.vstack(xy_list)[:,2:-2].T; data_list_ds.append(tmp[:-1:dsf,:]); data_list.append(tmp)\n",
    "    tmp = np.vstack(ll_list)[:,2:-2].T; mask_list_ds.append(tmp[:-1:dsf,:]); mask_list.append(tmp)\n",
    "#     pdb.set_trace()\n",
    "\n"
   ]
  },
  {
   "cell_type": "code",
   "execution_count": 103,
   "metadata": {},
   "outputs": [
    {
     "name": "stdout",
     "output_type": "stream",
     "text": [
      "\n",
      "1000.0:\t"
     ]
    },
    {
     "name": "stderr",
     "output_type": "stream",
     "text": [
      "/home/dwyrick/projects/jumping_behavior/io_dict_to_hdf5.py:66: H5pyDeprecationWarning: dataset.value has been deprecated. Use dataset[()] instead.\n",
      "  ans[key] = item.value\n"
     ]
    },
    {
     "name": "stdout",
     "output_type": "stream",
     "text": [
      "\n",
      "10000.0:\t"
     ]
    },
    {
     "name": "stderr",
     "output_type": "stream",
     "text": [
      "/home/dwyrick/projects/jumping_behavior/io_dict_to_hdf5.py:66: H5pyDeprecationWarning: dataset.value has been deprecated. Use dataset[()] instead.\n",
      "  ans[key] = item.value\n"
     ]
    },
    {
     "name": "stdout",
     "output_type": "stream",
     "text": [
      "\n",
      "100000.0:\t"
     ]
    },
    {
     "name": "stderr",
     "output_type": "stream",
     "text": [
      "/home/dwyrick/projects/jumping_behavior/io_dict_to_hdf5.py:66: H5pyDeprecationWarning: dataset.value has been deprecated. Use dataset[()] instead.\n",
      "  ans[key] = item.value\n"
     ]
    },
    {
     "name": "stdout",
     "output_type": "stream",
     "text": [
      "\n",
      "1000000.0:\t"
     ]
    },
    {
     "name": "stderr",
     "output_type": "stream",
     "text": [
      "/home/dwyrick/projects/jumping_behavior/io_dict_to_hdf5.py:66: H5pyDeprecationWarning: dataset.value has been deprecated. Use dataset[()] instead.\n",
      "  ans[key] = item.value\n"
     ]
    },
    {
     "name": "stdout",
     "output_type": "stream",
     "text": [
      "\n",
      "10000000.0:\t"
     ]
    },
    {
     "name": "stderr",
     "output_type": "stream",
     "text": [
      "/home/dwyrick/projects/jumping_behavior/io_dict_to_hdf5.py:66: H5pyDeprecationWarning: dataset.value has been deprecated. Use dataset[()] instead.\n",
      "  ans[key] = item.value\n"
     ]
    }
   ],
   "source": [
    "BaseDir = './results/ARHMM/Side_NEE-all_mice-2020-11-10_1857/'\n",
    "#Plot things for lag=2 kappa runs\n",
    "kappas = np.array([1E3,1E4,1E5,1E6,1E7])\n",
    "K = 10\n",
    "for ii, kappa in enumerate(kappas):\n",
    "    print('\\n{}:'.format(kappa),end='\\t')\n",
    "    KDir = os.path.join(BaseDir,'Kappa_{:.0e}'.format(kappa))\n",
    "\n",
    "    #Load MAP sequence results\n",
    "    fpath = glob(os.path.join(KDir,'MAP_seqs*.h5'))[0]\n",
    "    trMAPs, trPosteriors, trMasks, arhmm_params, opt = ioh5.load_MAP_seqs_h5(fpath)\n",
    "    \n",
    "    #Create temporary ARHMM for plotting functions \n",
    "    arhmm = ssm.HMM(K, 6, observations='autoregressive',transitions='sticky',observation_kwargs={'lags':2},transition_kwargs={'kappa':kappa})\n",
    "    arhmm.init_state_distn.params = arhmm_params['init_state_distn']['P0']\n",
    "    arhmm.transitions.params = arhmm_params['transitions']['log_Ps']\n",
    "    arhmm.observations.As = arhmm_params['observations']['As']\n",
    "    arhmm.observations.bs = arhmm_params['observations']['bs']\n",
    "        \n",
    "    \n",
    "    ## Calculate & plot state duration and state usage \n",
    "    state_duration_list, state_startend_list, mean_state_durations, state_usage = util.get_state_durations(trMAPs, trMasks, K)\n",
    "    fname_sffx = 'stick_autoregressive-HMM_K-10_Lag-2_Kappa_{:.0e}'.format(kappa)\n",
    "    \n",
    "#     pdb.set_trace()\n",
    "#     #Plot dynamics of latent states\n",
    "#     usrplt.plot_dynamics_2d(arhmm,SAVEFIG=True,PlotDir=KDir,fname='AR-streamplots_{}.pdf'.format(fname_sffx))\n",
    "\n",
    "#     ## Plot the actual AR matrices, with their corresponding fixed point\n",
    "#     usrplt.plot_AR_matrices(arhmm,SAVEFIG=True,PlotDir=KDir,fname='AR-matrices_{}.pdf'.format(fname_sffx))\n",
    "\n",
    "#     ## Plot example trajectories of actual trajectories for each state\n",
    "#     usrplt.plot_example_trajectories(state_duration_list, state_startend_list, mean_state_durations, data_list, arhmm, longest=True,\n",
    "#                                     SAVEFIG=True,PlotDir=KDir,fname='state-trajectories_data_longest-trials_{}.pdf'.format(fname_sffx))\n",
    "\n",
    "#     ## Plot example trajectories of actual trajectories for each state\n",
    "#     usrplt.plot_example_trajectories(state_duration_list, state_startend_list, mean_state_durations, data_list, arhmm, longest=False,\n",
    "#                                     SAVEFIG=True,PlotDir=KDir,fname='state-trajectories_data_varying-length_{}.pdf'.format(fname_sffx))\n",
    "\n",
    "    ## Plot example trajectories simulated from the model for each state\n",
    "    usrplt.plot_example_trajectories(state_duration_list, state_startend_list, mean_state_durations, data_list, arhmm, simulated=True,\n",
    "                                    SAVEFIG=True,PlotDir=KDir,fname='state-trajectories_simulated_longest-trials_{}.pdf'.format(fname_sffx))\n",
    "\n",
    "    ## Plot example trajectories simulated from the model for each state\n",
    "    usrplt.plot_example_trajectories(state_duration_list, state_startend_list, mean_state_durations, data_list, arhmm, longest=False, simulated=True,\n",
    "                                        SAVEFIG=True,PlotDir=KDir,fname='state-trajectories_simulated_varying-length_{}.pdf'.format(fname_sffx))\n",
    "    \n",
    "    pdb.set_trace()\n",
    "    \n"
   ]
  },
  {
   "cell_type": "code",
   "execution_count": 96,
   "metadata": {},
   "outputs": [
    {
     "data": {
      "text/plain": [
       "10"
      ]
     },
     "execution_count": 96,
     "metadata": {},
     "output_type": "execute_result"
    }
   ],
   "source": [
    "opt['K']"
   ]
  },
  {
   "cell_type": "code",
   "execution_count": 102,
   "metadata": {},
   "outputs": [],
   "source": [
    "fname_sffx = 'stick_autoregressive-HMM_K-10_Lag-2_Kappa_{:.0e}'.format(kappa)\n",
    "## Plot example trajectories of actual trajectories for each state\n",
    "usrplt.plot_example_trajectories(state_duration_list, state_startend_list, mean_state_durations, data_list, arhmm, longest=True,\n",
    "                                SAVEFIG=True,PlotDir=KDir,fname='state-trajectories_data_longest-trials_{}.pdf'.format(fname_sffx))"
   ]
  },
  {
   "cell_type": "code",
   "execution_count": 100,
   "metadata": {},
   "outputs": [
    {
     "name": "stdout",
     "output_type": "stream",
     "text": [
      "> \u001b[0;32m/home/dwyrick/projects/jumping_behavior/plotting.py\u001b[0m(524)\u001b[0;36mplot_example_trajectories\u001b[0;34m()\u001b[0m\n",
      "\u001b[0;32m    522 \u001b[0;31m                \u001b[0max\u001b[0m\u001b[0;34m.\u001b[0m\u001b[0mplot\u001b[0m\u001b[0;34m(\u001b[0m\u001b[0mdata\u001b[0m\u001b[0;34m[\u001b[0m\u001b[0mslice\u001b[0m\u001b[0;34m(\u001b[0m\u001b[0miS\u001b[0m\u001b[0;34m,\u001b[0m\u001b[0miE\u001b[0m\u001b[0;34m)\u001b[0m\u001b[0;34m,\u001b[0m\u001b[0;36m2\u001b[0m\u001b[0;34m*\u001b[0m\u001b[0miPt\u001b[0m\u001b[0;34m]\u001b[0m\u001b[0;34m,\u001b[0m\u001b[0mdata\u001b[0m\u001b[0;34m[\u001b[0m\u001b[0mslice\u001b[0m\u001b[0;34m(\u001b[0m\u001b[0miS\u001b[0m\u001b[0;34m,\u001b[0m\u001b[0miE\u001b[0m\u001b[0;34m)\u001b[0m\u001b[0;34m,\u001b[0m\u001b[0;36m2\u001b[0m\u001b[0;34m*\u001b[0m\u001b[0miPt\u001b[0m\u001b[0;34m+\u001b[0m\u001b[0;36m1\u001b[0m\u001b[0;34m]\u001b[0m\u001b[0;34m,\u001b[0m\u001b[0;34m'-k'\u001b[0m\u001b[0;34m,\u001b[0m\u001b[0malpha\u001b[0m\u001b[0;34m=\u001b[0m\u001b[0;36m0.5\u001b[0m\u001b[0;34m)\u001b[0m\u001b[0;34m\u001b[0m\u001b[0;34m\u001b[0m\u001b[0m\n",
      "\u001b[0m\u001b[0;32m    523 \u001b[0;31m\u001b[0;34m\u001b[0m\u001b[0m\n",
      "\u001b[0m\u001b[0;32m--> 524 \u001b[0;31m                \u001b[0max\u001b[0m\u001b[0;34m.\u001b[0m\u001b[0mplot\u001b[0m\u001b[0;34m(\u001b[0m\u001b[0mdata\u001b[0m\u001b[0;34m[\u001b[0m\u001b[0miS\u001b[0m\u001b[0;34m,\u001b[0m\u001b[0;36m2\u001b[0m\u001b[0;34m*\u001b[0m\u001b[0miPt\u001b[0m\u001b[0;34m]\u001b[0m\u001b[0;34m,\u001b[0m\u001b[0mdata\u001b[0m\u001b[0;34m[\u001b[0m\u001b[0miS\u001b[0m\u001b[0;34m,\u001b[0m\u001b[0;36m2\u001b[0m\u001b[0;34m*\u001b[0m\u001b[0miPt\u001b[0m\u001b[0;34m+\u001b[0m\u001b[0;36m1\u001b[0m\u001b[0;34m]\u001b[0m\u001b[0;34m,\u001b[0m\u001b[0;34m's'\u001b[0m\u001b[0;34m,\u001b[0m\u001b[0mcolor\u001b[0m\u001b[0;34m=\u001b[0m\u001b[0;34m'w'\u001b[0m\u001b[0;34m,\u001b[0m\u001b[0mmarkersize\u001b[0m\u001b[0;34m=\u001b[0m\u001b[0;36m6\u001b[0m\u001b[0;34m,\u001b[0m\u001b[0mmarkeredgecolor\u001b[0m\u001b[0;34m=\u001b[0m\u001b[0;34m'k'\u001b[0m\u001b[0;34m,\u001b[0m\u001b[0mmarkeredgewidth\u001b[0m\u001b[0;34m=\u001b[0m\u001b[0;36m1\u001b[0m\u001b[0;34m)\u001b[0m\u001b[0;31m#color=usrplt.cc[iState])\u001b[0m\u001b[0;34m\u001b[0m\u001b[0;34m\u001b[0m\u001b[0m\n",
      "\u001b[0m\u001b[0;32m    525 \u001b[0;31m                \u001b[0max\u001b[0m\u001b[0;34m.\u001b[0m\u001b[0mplot\u001b[0m\u001b[0;34m(\u001b[0m\u001b[0mdata\u001b[0m\u001b[0;34m[\u001b[0m\u001b[0miE\u001b[0m\u001b[0;34m,\u001b[0m\u001b[0;36m2\u001b[0m\u001b[0;34m*\u001b[0m\u001b[0miPt\u001b[0m\u001b[0;34m]\u001b[0m\u001b[0;34m,\u001b[0m\u001b[0mdata\u001b[0m\u001b[0;34m[\u001b[0m\u001b[0miE\u001b[0m\u001b[0;34m,\u001b[0m\u001b[0;36m2\u001b[0m\u001b[0;34m*\u001b[0m\u001b[0miPt\u001b[0m\u001b[0;34m+\u001b[0m\u001b[0;36m1\u001b[0m\u001b[0;34m]\u001b[0m\u001b[0;34m,\u001b[0m\u001b[0;34m'o'\u001b[0m\u001b[0;34m,\u001b[0m\u001b[0mcolor\u001b[0m\u001b[0;34m=\u001b[0m\u001b[0mcc\u001b[0m\u001b[0;34m[\u001b[0m\u001b[0miState\u001b[0m\u001b[0;34m]\u001b[0m\u001b[0;34m,\u001b[0m\u001b[0mmarkersize\u001b[0m\u001b[0;34m=\u001b[0m\u001b[0;36m6\u001b[0m\u001b[0;34m,\u001b[0m\u001b[0mmarkeredgecolor\u001b[0m\u001b[0;34m=\u001b[0m\u001b[0;34m'k'\u001b[0m\u001b[0;34m,\u001b[0m\u001b[0mmarkeredgewidth\u001b[0m\u001b[0;34m=\u001b[0m\u001b[0;36m1\u001b[0m\u001b[0;34m)\u001b[0m\u001b[0;34m\u001b[0m\u001b[0;34m\u001b[0m\u001b[0m\n",
      "\u001b[0m\u001b[0;32m    526 \u001b[0;31m                \u001b[0max\u001b[0m\u001b[0;34m.\u001b[0m\u001b[0mplot\u001b[0m\u001b[0;34m(\u001b[0m\u001b[0;36m0\u001b[0m\u001b[0;34m,\u001b[0m\u001b[0;36m0\u001b[0m\u001b[0;34m,\u001b[0m\u001b[0;34m'+k'\u001b[0m\u001b[0;34m,\u001b[0m\u001b[0mms\u001b[0m\u001b[0;34m=\u001b[0m\u001b[0;36m15\u001b[0m\u001b[0;34m)\u001b[0m\u001b[0;34m\u001b[0m\u001b[0;34m\u001b[0m\u001b[0m\n",
      "\u001b[0m\n"
     ]
    },
    {
     "name": "stdin",
     "output_type": "stream",
     "text": [
      "ipdb>  data.shape\n"
     ]
    },
    {
     "name": "stdout",
     "output_type": "stream",
     "text": [
      "(166, 6)\n"
     ]
    },
    {
     "name": "stdin",
     "output_type": "stream",
     "text": [
      "ipdb>  iS\n"
     ]
    },
    {
     "name": "stdout",
     "output_type": "stream",
     "text": [
      "205\n"
     ]
    },
    {
     "name": "stdin",
     "output_type": "stream",
     "text": [
      "ipdb>  q\n"
     ]
    }
   ],
   "source": [
    "pdb.pm()"
   ]
  },
  {
   "cell_type": "code",
   "execution_count": null,
   "metadata": {},
   "outputs": [],
   "source": [
    "## Plot example trajectories of actual trajectories for each state\n",
    "usrplt.plot_example_trajectories(state_duration_list, state_startend_list, mean_state_durations, data_list, arhmm, longest=False,\n",
    "                                SAVEFIG=True,PlotDir=KDir,fname='state-trajectories_data_varying-length_{}.pdf'.format(fname_sffx))"
   ]
  },
  {
   "cell_type": "code",
   "execution_count": 83,
   "metadata": {},
   "outputs": [],
   "source": [
    "A = arhmm.observations.As[0]# = arhmm_params['observations']['As']\n",
    "b = arhmm.observations.bs[0]# = arhmm_params['observations']['bs']"
   ]
  },
  {
   "cell_type": "code",
   "execution_count": null,
   "metadata": {},
   "outputs": [],
   "source": [
    "xstar = np.matmul(np.linalg.inv(np.tile(np.eye(6),2)-A),b)"
   ]
  },
  {
   "cell_type": "code",
   "execution_count": null,
   "metadata": {},
   "outputs": [],
   "source": []
  }
 ],
 "metadata": {
  "kernelspec": {
   "display_name": "Python 3",
   "language": "python",
   "name": "python3"
  },
  "language_info": {
   "codemirror_mode": {
    "name": "ipython",
    "version": 3
   },
   "file_extension": ".py",
   "mimetype": "text/x-python",
   "name": "python",
   "nbconvert_exporter": "python",
   "pygments_lexer": "ipython3",
   "version": "3.6.11"
  }
 },
 "nbformat": 4,
 "nbformat_minor": 4
}
