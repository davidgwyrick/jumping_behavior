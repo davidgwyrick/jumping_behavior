{
 "cells": [
  {
   "cell_type": "code",
   "execution_count": 1,
   "metadata": {},
   "outputs": [],
   "source": [
    "%load_ext autoreload\n",
    "%autoreload 2\n",
    "\n",
    "#Misc\n",
    "import time, os, sys, pdb\n",
    "from glob import glob\n",
    "from fnmatch import fnmatch\n",
    "\n",
    "#Base\n",
    "import numpy as np\n",
    "import pandas as pd\n",
    "import scipy.stats as st\n",
    "import multiprocessing as mp\n",
    "\n",
    "#Save\n",
    "import json, h5py\n",
    "import scipy.io as sio\n",
    "import io_dict_to_hdf5 as ioh5\n",
    "\n",
    "#Plot\n",
    "import matplotlib.pyplot as plt\n",
    "import seaborn as sns\n",
    "from matplotlib.backends.backend_pdf import PdfPages\n",
    "\n",
    "#User\n",
    "import util\n",
    "import plotting as usrplt\n",
    "import decoding as dc\n",
    "\n"
   ]
  },
  {
   "cell_type": "code",
   "execution_count": 5,
   "metadata": {},
   "outputs": [
    {
     "data": {
      "text/plain": [
       "{'save': 1,\n",
       " 'mID': 'all_mice',\n",
       " 'downsample_factor': 2,\n",
       " 'model_type': 'ARHMM',\n",
       " 'transitions': 'sticky',\n",
       " 'observations': 'autoregressive',\n",
       " 'inputdriven': 0,\n",
       " 'Kmin': 6,\n",
       " 'Kmax': 16,\n",
       " 'kappa': 5000000.0,\n",
       " 'AR_lags': 1,\n",
       " 'MAP_threshold': 0.75,\n",
       " 'EM_tolerance': 1e-06,\n",
       " 'EM_iters': 200,\n",
       " 'xval_type': 'K',\n",
       " 'kXval': 2,\n",
       " 'max_processes': 15,\n",
       " 'SaveDirRoot': '/home/dwyrick/projects/jumping_behavior/results/sticky-ARHMM_lag-1_dsf-2_kappa-5e+06_2020-11-15_2033'}"
      ]
     },
     "execution_count": 5,
     "metadata": {},
     "output_type": "execute_result"
    }
   ],
   "source": [
    "#Read in cross-validation parameters\n",
    "# BaseDir = './results/sticky-ARHMM_lag-1_dsf-2_kappa-1e+07_2020-11-15_1437'\n",
    "BaseDir = './results/sticky-ARHMM_lag-1_dsf-2_kappa-5e+06_2020-11-15_2033'\n",
    "with open(os.path.join(BaseDir,'ARHMM_hyperparameters.json')) as json_file:\n",
    "    opt = json.load(json_file)\n",
    "opt"
   ]
  },
  {
   "cell_type": "code",
   "execution_count": 3,
   "metadata": {},
   "outputs": [],
   "source": [
    "##===== Read in data at downsample factor =====##\n",
    "data_list, mask_list, data_df = util.read_data(dsf=opt['downsample_factor'])\n",
    "\n",
    "##===== Read in data at downsample factor =====##\n",
    "data_fullres_list, _, _ = util.read_data(dsf=1)"
   ]
  },
  {
   "cell_type": "code",
   "execution_count": 4,
   "metadata": {},
   "outputs": [
    {
     "data": {
      "text/html": [
       "<div>\n",
       "<style scoped>\n",
       "    .dataframe tbody tr th:only-of-type {\n",
       "        vertical-align: middle;\n",
       "    }\n",
       "\n",
       "    .dataframe tbody tr th {\n",
       "        vertical-align: top;\n",
       "    }\n",
       "\n",
       "    .dataframe thead th {\n",
       "        text-align: right;\n",
       "    }\n",
       "</style>\n",
       "<table border=\"1\" class=\"dataframe\">\n",
       "  <thead>\n",
       "    <tr style=\"text-align: right;\">\n",
       "      <th></th>\n",
       "      <th>expdate</th>\n",
       "      <th>subject</th>\n",
       "      <th>condition</th>\n",
       "      <th>platform</th>\n",
       "      <th>distance</th>\n",
       "      <th>success</th>\n",
       "      <th>laser_trial</th>\n",
       "      <th>jump_time</th>\n",
       "      <th>trial</th>\n",
       "      <th>fps</th>\n",
       "      <th>...</th>\n",
       "      <th>Side LEar y</th>\n",
       "      <th>Top LEar y</th>\n",
       "      <th>Side LEar likelihood</th>\n",
       "      <th>Top LEar likelihood</th>\n",
       "      <th>Side TakeFL x</th>\n",
       "      <th>Top TakeFL x</th>\n",
       "      <th>Side TakeFL y</th>\n",
       "      <th>Top TakeFL y</th>\n",
       "      <th>Side TakeFL likelihood</th>\n",
       "      <th>Top TakeFL likelihood</th>\n",
       "    </tr>\n",
       "  </thead>\n",
       "  <tbody>\n",
       "    <tr>\n",
       "      <th>0</th>\n",
       "      <td>061920</td>\n",
       "      <td>J157BLT</td>\n",
       "      <td>control</td>\n",
       "      <td>2</td>\n",
       "      <td>8</td>\n",
       "      <td>0</td>\n",
       "      <td>laser off</td>\n",
       "      <td>125</td>\n",
       "      <td>1</td>\n",
       "      <td>60</td>\n",
       "      <td>...</td>\n",
       "      <td>[425.385317744935, 366.33104528399747, 307.276...</td>\n",
       "      <td>[410.1932973761308, 352.0100881476151, 293.743...</td>\n",
       "      <td>[0.9999992847442627, 0.9999996423721313, 0.999...</td>\n",
       "      <td>[0.9999997615814209, 0.9999998807907104, 0.999...</td>\n",
       "      <td>[343.8412719726563, 458.4371704101562, 573.033...</td>\n",
       "      <td>[314.5657470703125, 419.42099609375003, 524.27...</td>\n",
       "      <td>[449.0091425115412, 384.95652410333804, 320.90...</td>\n",
       "      <td>[401.4983811248759, 342.47820290221966, 283.45...</td>\n",
       "      <td>[0.999998927116394, 0.9999992847442627, 0.9999...</td>\n",
       "      <td>[0.022194653749465942, 0.013417750597000122, 0...</td>\n",
       "    </tr>\n",
       "    <tr>\n",
       "      <th>1</th>\n",
       "      <td>061920</td>\n",
       "      <td>J157BLT</td>\n",
       "      <td>control</td>\n",
       "      <td>1</td>\n",
       "      <td>20</td>\n",
       "      <td>0</td>\n",
       "      <td>laser off</td>\n",
       "      <td>222</td>\n",
       "      <td>2</td>\n",
       "      <td>60</td>\n",
       "      <td>...</td>\n",
       "      <td>[433.1472437062976, 376.13851567895387, 319.12...</td>\n",
       "      <td>[410.46880031185265, 353.5964736516964, 296.65...</td>\n",
       "      <td>[0.9999973773956299, 0.9999958276748657, 0.999...</td>\n",
       "      <td>[0.9999992847442627, 0.9999996423721313, 0.999...</td>\n",
       "      <td>[343.52678222656255, 458.06650390625003, 572.6...</td>\n",
       "      <td>[312.7005615234375, 416.93408203125, 521.16760...</td>\n",
       "      <td>[447.5615396573399, 383.70670567296486, 319.85...</td>\n",
       "      <td>[404.90802086255826, 346.7887886848239, 288.66...</td>\n",
       "      <td>[0.9999996423721313, 0.9999996423721313, 0.999...</td>\n",
       "      <td>[0.04482194781303406, 0.06799852848052979, 0.0...</td>\n",
       "    </tr>\n",
       "    <tr>\n",
       "      <th>2</th>\n",
       "      <td>061920</td>\n",
       "      <td>J157BLT</td>\n",
       "      <td>control</td>\n",
       "      <td>3</td>\n",
       "      <td>8</td>\n",
       "      <td>1</td>\n",
       "      <td>laser off</td>\n",
       "      <td>355</td>\n",
       "      <td>3</td>\n",
       "      <td>60</td>\n",
       "      <td>...</td>\n",
       "      <td>[407.3741518887608, 348.01848782626075, 288.58...</td>\n",
       "      <td>[361.26440623890267, 306.1514179576527, 251.19...</td>\n",
       "      <td>[0.9999998807907104, 0.9999998807907104, 0.999...</td>\n",
       "      <td>[0.9999997615814209, 0.9999997615814209, 0.999...</td>\n",
       "      <td>[343.5391479492188, 457.974072265625, 572.3549...</td>\n",
       "      <td>[314.574169921875, 419.43222656250003, 524.290...</td>\n",
       "      <td>[446.51506847034796, 382.5187916148792, 318.38...</td>\n",
       "      <td>[402.4329915364583, 344.60011800130206, 286.76...</td>\n",
       "      <td>[0.9999998807907104, 0.9999998211860657, 0.999...</td>\n",
       "      <td>[0.8656889796257019, 0.7850416302680969, 0.630...</td>\n",
       "    </tr>\n",
       "    <tr>\n",
       "      <th>3</th>\n",
       "      <td>061920</td>\n",
       "      <td>J157BLT</td>\n",
       "      <td>control</td>\n",
       "      <td>1</td>\n",
       "      <td>12</td>\n",
       "      <td>1</td>\n",
       "      <td>laser off</td>\n",
       "      <td>514</td>\n",
       "      <td>4</td>\n",
       "      <td>60</td>\n",
       "      <td>...</td>\n",
       "      <td>[426.17190549660387, 369.09125364113515, 311.7...</td>\n",
       "      <td>[375.1970238334944, 319.0105187065413, 262.857...</td>\n",
       "      <td>[0.9999997615814209, 0.9999995231628418, 0.999...</td>\n",
       "      <td>[0.9999972581863403, 0.9999987483024597, 0.999...</td>\n",
       "      <td>[343.9951171875, 458.68979492187503, 573.36568...</td>\n",
       "      <td>[315.40451660156253, 420.53935546875005, 525.6...</td>\n",
       "      <td>[448.9589674068071, 385.0646436763384, 321.142...</td>\n",
       "      <td>[405.64251222127933, 347.9299939107325, 290.21...</td>\n",
       "      <td>[0.9999951720237732, 0.9999984502792358, 0.999...</td>\n",
       "      <td>[0.004946380853652954, 0.004948854446411133, 0...</td>\n",
       "    </tr>\n",
       "    <tr>\n",
       "      <th>4</th>\n",
       "      <td>061920</td>\n",
       "      <td>J157BLT</td>\n",
       "      <td>control</td>\n",
       "      <td>2</td>\n",
       "      <td>12</td>\n",
       "      <td>0</td>\n",
       "      <td>laser off</td>\n",
       "      <td>651</td>\n",
       "      <td>5</td>\n",
       "      <td>60</td>\n",
       "      <td>...</td>\n",
       "      <td>[429.43573380136877, 369.31512833261877, 308.8...</td>\n",
       "      <td>[354.6358043391531, 299.05050770829365, 243.60...</td>\n",
       "      <td>[1.0, 0.9999998807907104, 0.9999995231628418, ...</td>\n",
       "      <td>[0.9999991655349731, 0.9999986886978149, 0.999...</td>\n",
       "      <td>[343.91730957031257, 458.74045410156253, 573.5...</td>\n",
       "      <td>[313.2942993164063, 417.3133544921875, 521.236...</td>\n",
       "      <td>[446.6510607711668, 382.556981181323, 318.4961...</td>\n",
       "      <td>[403.01506375902665, 345.44733914965167, 287.8...</td>\n",
       "      <td>[0.9999997615814209, 0.9999998807907104, 0.999...</td>\n",
       "      <td>[0.9386019706726074, 0.956940770149231, 0.9827...</td>\n",
       "    </tr>\n",
       "  </tbody>\n",
       "</table>\n",
       "<p>5 rows × 47 columns</p>\n",
       "</div>"
      ],
      "text/plain": [
       "  expdate  subject condition  platform  distance  success laser_trial  \\\n",
       "0  061920  J157BLT   control         2         8        0   laser off   \n",
       "1  061920  J157BLT   control         1        20        0   laser off   \n",
       "2  061920  J157BLT   control         3         8        1   laser off   \n",
       "3  061920  J157BLT   control         1        12        1   laser off   \n",
       "4  061920  J157BLT   control         2        12        0   laser off   \n",
       "\n",
       "   jump_time  trial  fps  ...  \\\n",
       "0        125      1   60  ...   \n",
       "1        222      2   60  ...   \n",
       "2        355      3   60  ...   \n",
       "3        514      4   60  ...   \n",
       "4        651      5   60  ...   \n",
       "\n",
       "                                         Side LEar y  \\\n",
       "0  [425.385317744935, 366.33104528399747, 307.276...   \n",
       "1  [433.1472437062976, 376.13851567895387, 319.12...   \n",
       "2  [407.3741518887608, 348.01848782626075, 288.58...   \n",
       "3  [426.17190549660387, 369.09125364113515, 311.7...   \n",
       "4  [429.43573380136877, 369.31512833261877, 308.8...   \n",
       "\n",
       "                                          Top LEar y  \\\n",
       "0  [410.1932973761308, 352.0100881476151, 293.743...   \n",
       "1  [410.46880031185265, 353.5964736516964, 296.65...   \n",
       "2  [361.26440623890267, 306.1514179576527, 251.19...   \n",
       "3  [375.1970238334944, 319.0105187065413, 262.857...   \n",
       "4  [354.6358043391531, 299.05050770829365, 243.60...   \n",
       "\n",
       "                                Side LEar likelihood  \\\n",
       "0  [0.9999992847442627, 0.9999996423721313, 0.999...   \n",
       "1  [0.9999973773956299, 0.9999958276748657, 0.999...   \n",
       "2  [0.9999998807907104, 0.9999998807907104, 0.999...   \n",
       "3  [0.9999997615814209, 0.9999995231628418, 0.999...   \n",
       "4  [1.0, 0.9999998807907104, 0.9999995231628418, ...   \n",
       "\n",
       "                                 Top LEar likelihood  \\\n",
       "0  [0.9999997615814209, 0.9999998807907104, 0.999...   \n",
       "1  [0.9999992847442627, 0.9999996423721313, 0.999...   \n",
       "2  [0.9999997615814209, 0.9999997615814209, 0.999...   \n",
       "3  [0.9999972581863403, 0.9999987483024597, 0.999...   \n",
       "4  [0.9999991655349731, 0.9999986886978149, 0.999...   \n",
       "\n",
       "                                       Side TakeFL x  \\\n",
       "0  [343.8412719726563, 458.4371704101562, 573.033...   \n",
       "1  [343.52678222656255, 458.06650390625003, 572.6...   \n",
       "2  [343.5391479492188, 457.974072265625, 572.3549...   \n",
       "3  [343.9951171875, 458.68979492187503, 573.36568...   \n",
       "4  [343.91730957031257, 458.74045410156253, 573.5...   \n",
       "\n",
       "                                        Top TakeFL x  \\\n",
       "0  [314.5657470703125, 419.42099609375003, 524.27...   \n",
       "1  [312.7005615234375, 416.93408203125, 521.16760...   \n",
       "2  [314.574169921875, 419.43222656250003, 524.290...   \n",
       "3  [315.40451660156253, 420.53935546875005, 525.6...   \n",
       "4  [313.2942993164063, 417.3133544921875, 521.236...   \n",
       "\n",
       "                                       Side TakeFL y  \\\n",
       "0  [449.0091425115412, 384.95652410333804, 320.90...   \n",
       "1  [447.5615396573399, 383.70670567296486, 319.85...   \n",
       "2  [446.51506847034796, 382.5187916148792, 318.38...   \n",
       "3  [448.9589674068071, 385.0646436763384, 321.142...   \n",
       "4  [446.6510607711668, 382.556981181323, 318.4961...   \n",
       "\n",
       "                                        Top TakeFL y  \\\n",
       "0  [401.4983811248759, 342.47820290221966, 283.45...   \n",
       "1  [404.90802086255826, 346.7887886848239, 288.66...   \n",
       "2  [402.4329915364583, 344.60011800130206, 286.76...   \n",
       "3  [405.64251222127933, 347.9299939107325, 290.21...   \n",
       "4  [403.01506375902665, 345.44733914965167, 287.8...   \n",
       "\n",
       "                              Side TakeFL likelihood  \\\n",
       "0  [0.999998927116394, 0.9999992847442627, 0.9999...   \n",
       "1  [0.9999996423721313, 0.9999996423721313, 0.999...   \n",
       "2  [0.9999998807907104, 0.9999998211860657, 0.999...   \n",
       "3  [0.9999951720237732, 0.9999984502792358, 0.999...   \n",
       "4  [0.9999997615814209, 0.9999998807907104, 0.999...   \n",
       "\n",
       "                               Top TakeFL likelihood  \n",
       "0  [0.022194653749465942, 0.013417750597000122, 0...  \n",
       "1  [0.04482194781303406, 0.06799852848052979, 0.0...  \n",
       "2  [0.8656889796257019, 0.7850416302680969, 0.630...  \n",
       "3  [0.004946380853652954, 0.004948854446411133, 0...  \n",
       "4  [0.9386019706726074, 0.956940770149231, 0.9827...  \n",
       "\n",
       "[5 rows x 47 columns]"
      ]
     },
     "execution_count": 4,
     "metadata": {},
     "output_type": "execute_result"
    }
   ],
   "source": [
    "#Set abort trials to failure trials\n",
    "data_df.loc[data_df['success'] == 2,'success'] = 0\n",
    "\n",
    "#Set \"opto suture\" trials where there was no optogenetics performed to \"suture\" trials\n",
    "data_df.loc[(data_df['laser_trial'] == 'laser off') & (data_df['condition'] == 'opto suture'),'condition'] = 'suture'\n",
    "\n",
    "#Print\n",
    "data_df.head()"
   ]
  },
  {
   "cell_type": "code",
   "execution_count": 6,
   "metadata": {},
   "outputs": [
    {
     "name": "stderr",
     "output_type": "stream",
     "text": [
      "/home/dwyrick/projects/jumping_behavior/io_dict_to_hdf5.py:66: H5pyDeprecationWarning: dataset.value has been deprecated. Use dataset[()] instead.\n",
      "  ans[key] = item.value\n"
     ]
    }
   ],
   "source": [
    "K = 12\n",
    "SaveDir = os.path.join(BaseDir,'K-{:0d}'.format(K))\n",
    "fname_sffx = 'sARHMM_lag-{}_K-{:02d}_dsf-{}_Kappa-{:.0e}'.format(opt['AR_lags'],K,opt['downsample_factor'],opt['kappa'])\n",
    "\n",
    "#Load MAP sequence results\n",
    "fpath = glob(os.path.join(SaveDir,'MAP_seqs*.h5'))[0]\n",
    "trMAPs, trPosteriors, trMasks, arhmm_params, opt = ioh5.load_MAP_seqs_h5(fpath)"
   ]
  },
  {
   "cell_type": "code",
   "execution_count": 48,
   "metadata": {},
   "outputs": [
    {
     "name": "stderr",
     "output_type": "stream",
     "text": [
      "/home/dwyrick/projects/jumping_behavior/io_dict_to_hdf5.py:66: H5pyDeprecationWarning: dataset.value has been deprecated. Use dataset[()] instead.\n",
      "  ans[key] = item.value\n"
     ]
    }
   ],
   "source": [
    "#Load MAP sequence results\n",
    "fpath = glob(os.path.join(SaveDir,'MAP_seqs*.h5'))[0]\n",
    "trMAPs, trPosteriors, trMasks, arhmm_params, opt = ioh5.load_MAP_seqs_h5(fpath)\n",
    "\n",
    "trMasks2 = []\n",
    "tBins_removed = []\n",
    "for iTrial, mapseq in enumerate(trMAPs):\n",
    "    #Apply posterior probability threshold mask\n",
    "    MAPcp = mapseq.copy()\n",
    "    mask = trMasks[iTrial]\n",
    "    MAPcp[~mask] = -1\n",
    "\n",
    "    #Loop over states and NaN out that were less than 100ms (3 frames)\n",
    "    for state in range(K):\n",
    "        state_1hot = np.concatenate(([0],(np.array(MAPcp) == state).astype(int),[0]))\n",
    "        state_trans = np.diff(state_1hot)\n",
    "        state_ends = np.nonzero(state_trans == -1)[0]\n",
    "        state_starts = np.nonzero(state_trans == +1)[0]\n",
    "        state_durations = state_ends - state_starts\n",
    "\n",
    "        #State was not used this trial\n",
    "        if len(state_durations) == 0:\n",
    "            continue\n",
    "\n",
    "        #Loop over the individual state sequences and NaN out the short ones\n",
    "        for iSeq, sd in enumerate(state_durations):\n",
    "            if sd <= 3:\n",
    "                MAPcp[slice(state_starts[iSeq],state_ends[iSeq])] = -1\n",
    "\n",
    "    #Update mask\n",
    "    mask2 = MAPcp != -1\n",
    "    trMasks2.append(mask2)\n",
    "\n",
    "    #See how much of a difference that made\n",
    "    tBins_removed.append(np.sum(mask)-np.sum(mask2))\n",
    "\n",
    "        \n",
    "        \n",
    "            \n",
    "            \n",
    "    "
   ]
  },
  {
   "cell_type": "code",
   "execution_count": 50,
   "metadata": {},
   "outputs": [
    {
     "data": {
      "text/plain": [
       "8862"
      ]
     },
     "execution_count": 50,
     "metadata": {},
     "output_type": "execute_result"
    }
   ],
   "source": [
    "np.sum(tBins_removed)\n"
   ]
  },
  {
   "cell_type": "code",
   "execution_count": 42,
   "metadata": {},
   "outputs": [
    {
     "data": {
      "text/plain": [
       "array([ 0,  1,  2,  3,  4,  6,  7,  8,  9, 19, 20, 21, 22, 23, 25, 26, 27,\n",
       "       28, 29, 30, 31, 32, 33, 34, 35, 40, 41, 42, 43, 45, 46, 47, 48, 49,\n",
       "       50, 51, 52, 53, 54, 55, 56, 57, 58, 59, 60, 62, 63, 64, 65, 66, 67,\n",
       "       68, 70, 71, 72, 73, 74, 75, 76, 77, 78, 79, 80, 81, 82, 83, 84, 85,\n",
       "       86, 87, 88, 89, 90, 91, 92, 93, 95, 96, 97, 98])"
      ]
     },
     "execution_count": 42,
     "metadata": {},
     "output_type": "execute_result"
    }
   ],
   "source": [
    "mask2\n"
   ]
  },
  {
   "cell_type": "code",
   "execution_count": 8,
   "metadata": {},
   "outputs": [],
   "source": [
    "TCMs = util.get_transition_count_matrices(trMAPs,trMasks,K,normalize=True)\n",
    "TPM = np.exp(arhmm_params['transitions']['log_Ps'])\n",
    "\n",
    "## Calculate state duration and state usage \n",
    "state_duration_list, state_startend_list, mean_state_durations, state_usage_pertrial, state_usage = util.get_state_durations(trMAPs, trMasks, K)"
   ]
  },
  {
   "cell_type": "code",
   "execution_count": 9,
   "metadata": {},
   "outputs": [
    {
     "data": {
      "text/plain": [
       "(4310, 12, 12)"
      ]
     },
     "execution_count": 9,
     "metadata": {},
     "output_type": "execute_result"
    }
   ],
   "source": [
    "TCMs.shape"
   ]
  },
  {
   "cell_type": "code",
   "execution_count": 10,
   "metadata": {},
   "outputs": [
    {
     "name": "stdout",
     "output_type": "stream",
     "text": [
      "\n",
      "Mouse: J157BLT\n",
      "\n",
      "Distance: 8->\t0:   2 trials\t1:  63 trials\t2:   0 trials\t\n",
      "Distance: 12->\t0:   6 trials\t1:  60 trials\t2:   0 trials\t\n",
      "Distance: 16->\t0:  10 trials\t1:  52 trials\t2:   0 trials\t\n",
      "Distance: 20->\t0:  15 trials\t1:  47 trials\t2:   0 trials\t\n",
      "Distance: 24->\t0:  42 trials\t1:  19 trials\t2:   0 trials\t\n",
      "Mouse: J157BRT\n",
      "\n",
      "Distance: 8->\t0:   6 trials\t1: 105 trials\t2:   0 trials\t\n",
      "Distance: 12->\t0:  11 trials\t1: 106 trials\t2:   0 trials\t\n",
      "Distance: 16->\t0:  16 trials\t1: 104 trials\t2:   0 trials\t\n",
      "Distance: 20->\t0:  26 trials\t1:  94 trials\t2:   0 trials\t\n",
      "Distance: 24->\t0:  68 trials\t1:  49 trials\t2:   0 trials\t\n",
      "Mouse: J158BLT\n",
      "\n",
      "Distance: 8->\t0:   1 trials\t1:  93 trials\t2:   0 trials\t\n",
      "Distance: 12->\t0:   4 trials\t1:  91 trials\t2:   0 trials\t\n",
      "Distance: 16->\t0:   5 trials\t1:  90 trials\t2:   0 trials\t\n",
      "Distance: 20->\t0:  13 trials\t1:  80 trials\t2:   0 trials\t\n",
      "Distance: 24->\t0:  49 trials\t1:  43 trials\t2:   0 trials\t\n",
      "Mouse: J158BRT\n",
      "\n",
      "Distance: 8->\t0:   0 trials\t1:  93 trials\t2:   0 trials\t\n",
      "Distance: 12->\t0:   5 trials\t1:  94 trials\t2:   0 trials\t\n",
      "Distance: 16->\t0:  10 trials\t1:  87 trials\t2:   0 trials\t\n",
      "Distance: 20->\t0:  19 trials\t1:  78 trials\t2:   0 trials\t\n",
      "Distance: 24->\t0:  48 trials\t1:  48 trials\t2:   0 trials\t\n",
      "Mouse: PV-CHR11P1LT\n",
      "\n",
      "Distance: 8->\t0:   2 trials\t1: 115 trials\t2:   0 trials\t\n",
      "Distance: 12->\t0:   2 trials\t1: 115 trials\t2:   0 trials\t\n",
      "Distance: 16->\t0:   5 trials\t1: 113 trials\t2:   0 trials\t\n",
      "Distance: 20->\t0:  26 trials\t1:  98 trials\t2:   0 trials\t\n",
      "Distance: 24->\t0: 100 trials\t1:  23 trials\t2:   0 trials\t\n",
      "Mouse: PV-CHR11P1TT\n",
      "\n",
      "Distance: 8->\t0:   5 trials\t1: 114 trials\t2:   0 trials\t\n",
      "Distance: 12->\t0:  12 trials\t1: 115 trials\t2:   0 trials\t\n",
      "Distance: 16->\t0:  21 trials\t1:  99 trials\t2:   0 trials\t\n",
      "Distance: 20->\t0:  61 trials\t1:  60 trials\t2:   0 trials\t\n",
      "Distance: 24->\t0: 107 trials\t1:  20 trials\t2:   0 trials\t\n",
      "Mouse: PV-CHR11P2LT\n",
      "\n",
      "Distance: 8->\t0:   1 trials\t1: 110 trials\t2:   0 trials\t\n",
      "Distance: 12->\t0:   5 trials\t1: 112 trials\t2:   0 trials\t\n",
      "Distance: 16->\t0:  14 trials\t1:  91 trials\t2:   0 trials\t\n",
      "Distance: 20->\t0:  26 trials\t1:  84 trials\t2:   0 trials\t\n",
      "Distance: 24->\t0:  67 trials\t1:  40 trials\t2:   0 trials\t\n",
      "Mouse: PV-CHR11P2RT\n",
      "\n",
      "Distance: 8->\t0:   3 trials\t1: 129 trials\t2:   0 trials\t\n",
      "Distance: 12->\t0:  13 trials\t1: 129 trials\t2:   0 trials\t\n",
      "Distance: 16->\t0:   7 trials\t1: 135 trials\t2:   0 trials\t\n",
      "Distance: 20->\t0:  30 trials\t1: 109 trials\t2:   0 trials\t\n",
      "Distance: 24->\t0: 102 trials\t1:  38 trials\t2:   0 trials\t"
     ]
    }
   ],
   "source": [
    "indy_dict = data_df.groupby(['subject','distance','success']).indices\n",
    "mouse_IDs = np.unique(data_df['subject'])\n",
    "distances = np.unique(data_df['distance'])\n",
    "\n",
    "for mID in mouse_IDs:\n",
    "    print('\\nMouse: {}'.format(mID))\n",
    "    for dist in distances:\n",
    "        print('\\nDistance: {}->'.format(dist),end='\\t')\n",
    "        for success in range(3):\n",
    "            if (mID,dist,success) in indy_dict.keys():\n",
    "                nTrials = len(indy_dict[mID,dist,success])\n",
    "            else:\n",
    "                nTrials = 0\n",
    "            print('{}: {:3d} trials'.format(success,nTrials),end='\\t')\n",
    "            "
   ]
  },
  {
   "cell_type": "code",
   "execution_count": 11,
   "metadata": {},
   "outputs": [],
   "source": [
    "mID = 'J158BLT'\n",
    "dist = 24\n",
    "\n",
    "indy_dict = data_df.groupby(['subject','distance','success']).indices\n",
    "#Get \"Failure\" trials\n",
    "indy = indy_dict[(mID,dist,0)]\n",
    "nTrials_0 = len(indy)\n",
    "failure_TCMs = TCMs[indy].reshape(nTrials_0,-1)\n",
    "\n",
    "#Get \"Success\" trials\n",
    "indy = indy_dict[(mID,dist,1)]\n",
    "nTrials_1 = len(indy)\n",
    "success_TCMs = TCMs[indy].reshape(nTrials_1,-1)\n",
    "\n",
    "nTrials_match = np.min([nTrials_0,nTrials_1])\n",
    "trial_indices = np.concatenate((indy_dict[(mID,dist,0)][:nTrials_match],indy_dict[(mID,dist,1)][:nTrials_match]))"
   ]
  },
  {
   "cell_type": "code",
   "execution_count": 12,
   "metadata": {},
   "outputs": [
    {
     "name": "stdout",
     "output_type": "stream",
     "text": [
      "('control', 0): 34 trials\n",
      "('control', 1): 30 trials\n",
      "('opto suture', 0): 1 trials\n",
      "('opto suture', 1): 3 trials\n",
      "('suture', 0): 8 trials\n",
      "('suture', 1): 10 trials\n"
     ]
    }
   ],
   "source": [
    "tmp_dict = data_df.iloc[trial_indices].groupby(['condition','success']).indices\n",
    "\n",
    "for key in tmp_dict.keys():\n",
    "    print('{}: {} trials'.format(key,len(tmp_dict[key])))"
   ]
  },
  {
   "cell_type": "code",
   "execution_count": 121,
   "metadata": {},
   "outputs": [
    {
     "name": "stdout",
     "output_type": "stream",
     "text": [
      "Test: 1.000000e+06\n"
     ]
    }
   ],
   "source": [
    "print('Test: {:e}'.format(1E6))\n"
   ]
  },
  {
   "cell_type": "code",
   "execution_count": 14,
   "metadata": {},
   "outputs": [],
   "source": [
    "##===== Put in form for decoding analysis =====##\n",
    "X = np.vstack((failure_TCMs[:nTrials_match],success_TCMs[:nTrials_match]))\n",
    "Y = np.concatenate((np.repeat(0,nTrials_match),np.repeat(1,nTrials_match)))\n",
    "\n",
    "Y_sort = ['{}_{}'.format(data_df.iloc[iT]['condition'],data_df.iloc[iT]['success']) for iT in trial_indices]\n"
   ]
  },
  {
   "cell_type": "code",
   "execution_count": 16,
   "metadata": {},
   "outputs": [
    {
     "name": "stderr",
     "output_type": "stream",
     "text": [
      "/home/dwyrick/miniconda3/envs/ssm/lib/python3.6/site-packages/sklearn/model_selection/_split.py:672: UserWarning: The least populated class in y has only 1 members, which is less than n_splits=5.\n",
      "  % (min_groups, self.n_splits)), UserWarning)\n"
     ]
    },
    {
     "data": {
      "image/png": "[encoded data removed]",
      "text/plain": [
       "<Figure size 432x432 with 2 Axes>"
      ]
     },
     "metadata": {},
     "output_type": "display_data"
    }
   ],
   "source": [
    "classifier = 'LDA'\n",
    "method='kfold'\n",
    "\n",
    "## Try to decode whether the animal was successful or not based on the transition count matrices\n",
    "confusion_mat, confusion_shf, confusion_z = dc.cross_validate(X,Y,Y_sort,clabels=[0,1],nKfold=5,classifier=classifier,method=method)\n",
    "\n",
    "#Plot decoding performance \n",
    "title = 'Mouse {}, {} cm distance'.format(mID,dist)\n",
    "dc.plot_decoding_accuracy(confusion_mat,confusion_z,class_labels=['Failure','Success'],title=title)"
   ]
  },
  {
   "cell_type": "code",
   "execution_count": 17,
   "metadata": {},
   "outputs": [
    {
     "data": {
      "image/png": "[encoded data removed]",
      "text/plain": [
       "<Figure size 432x432 with 2 Axes>"
      ]
     },
     "metadata": {},
     "output_type": "display_data"
    }
   ],
   "source": [
    "##Can we decode different distances successfully jumped within the same mouse?\n",
    "indy_dict = data_df.groupby(['subject','condition','distance','success']).indices\n",
    "nTrials_match = np.min([len(indy_dict[(mID,'control',d,1)]) for d in distances])\n",
    "\n",
    "indy_list = []\n",
    "for d in distances:\n",
    "    indy_list.append(indy_dict[(mID,'control',d,1)][:nTrials_match])\n",
    "trial_indices = np.concatenate(indy_list)\n",
    "\n",
    "X = TCMs[trial_indices].reshape(len(trial_indices),-1)\n",
    "Y = np.concatenate([np.repeat(d,nTrials_match) for d in distances])\n",
    "\n",
    "classifier = 'LDA'\n",
    "method='kfold'\n",
    "\n",
    "## Try to decode whether the animal was successful or not based on the transition count matrices\n",
    "confusion_mat, confusion_shf, confusion_z = dc.cross_validate(X,Y,clabels=distances,nKfold=5,classifier=classifier,method=method)\n",
    "\n",
    "#Plot decoding performance \n",
    "title = 'Decoding distances jumped\\n for mouse {}'.format(mID)\n",
    "dc.plot_decoding_accuracy(confusion_mat,confusion_z,class_labels=distances,title=title)"
   ]
  },
  {
   "cell_type": "code",
   "execution_count": 23,
   "metadata": {},
   "outputs": [
    {
     "data": {
      "text/plain": [
       "0.2"
      ]
     },
     "execution_count": 23,
     "metadata": {},
     "output_type": "execute_result"
    }
   ],
   "source": [
    "6/30"
   ]
  },
  {
   "cell_type": "code",
   "execution_count": 116,
   "metadata": {},
   "outputs": [],
   "source": [
    "indy_dict = data_df.groupby(['subject','condition','distance','success']).indices\n",
    "\n",
    "mTrials_list = []\n",
    "#Match nTrials for each distance across mice\n",
    "for d in distances:\n",
    "    tmp_list = []\n",
    "    for mID in mouse_IDs:\n",
    "        tmp_list.append(len(indy_dict[(mID,'control',d,1)]))\n",
    "    mTrials_list.append(np.min(tmp_list))\n",
    "mTrials_list\n",
    "\n",
    "indy_list = []\n",
    "for mID in mouse_IDs:\n",
    "    ii = 2; d = 16\n",
    "#     for ii,d in enumerate(distances):\n",
    "    nTrials_match = mTrials_list[ii]\n",
    "    indy_list.append(indy_dict[(mID,'control',d,1)][:nTrials_match])\n",
    "trial_indices = np.concatenate(indy_list)\n",
    "\n",
    "np.unique(data_df.iloc[trial_indices]['subject'],return_counts=True)\n",
    "\n",
    "\n",
    "X = TCMs[trial_indices].reshape(len(trial_indices),-1)\n",
    "Y = data_df.iloc[trial_indices]['subject'].values\n",
    "\n",
    "Y_sort = ['{}_{}'.format(data_df.iloc[iT]['subject'],data_df.iloc[iT]['distance']) for iT in trial_indices]"
   ]
  },
  {
   "cell_type": "code",
   "execution_count": null,
   "metadata": {},
   "outputs": [],
   "source": [
    "classifier = 'LDA'\n",
    "method='kfold'\n",
    "\n",
    "## Try to decode whether the animal was successful or not based on the transition count matrices\n",
    "confusion_mat, confusion_shf, confusion_z = dc.cross_validate(X,Y,Y_sort,clabels=mouse_IDs,nKfold=10,classifier=classifier,method=method)"
   ]
  },
  {
   "cell_type": "code",
   "execution_count": 108,
   "metadata": {},
   "outputs": [
    {
     "data": {
      "text/plain": [
       "8"
      ]
     },
     "execution_count": 108,
     "metadata": {},
     "output_type": "execute_result"
    }
   ],
   "source": [
    "len(mouse_IDs)"
   ]
  },
  {
   "cell_type": "code",
   "execution_count": 112,
   "metadata": {},
   "outputs": [
    {
     "data": {
      "image/png": "[encoded data removed]",
      "text/plain": [
       "<Figure size 432x432 with 2 Axes>"
      ]
     },
     "metadata": {},
     "output_type": "display_data"
    }
   ],
   "source": [
    "#Plot decoding performance \n",
    "title = 'Decoding mouse identity'\n",
    "dc.plot_decoding_accuracy(confusion_mat,confusion_z,class_labels=['A','B','C','D','E','F','G','H'],annot=False,title=title)"
   ]
  },
  {
   "cell_type": "code",
   "execution_count": null,
   "metadata": {},
   "outputs": [],
   "source": []
  },
  {
   "cell_type": "code",
   "execution_count": 117,
   "metadata": {},
   "outputs": [
    {
     "data": {
      "image/png": "[encoded data removed]",
      "text/plain": [
       "<Figure size 432x432 with 2 Axes>"
      ]
     },
     "metadata": {},
     "output_type": "display_data"
    }
   ],
   "source": [
    "classifier = 'LDA'\n",
    "method='kfold'\n",
    "\n",
    "## Try to decode whether the animal was successful or not based on the transition count matrices\n",
    "confusion_mat, confusion_shf, confusion_z = dc.cross_validate(X,Y,Y_sort,clabels=mouse_IDs,nKfold=10,classifier=classifier,method=method)\n",
    "\n",
    "#Plot decoding performance \n",
    "title = 'Decoding mouse identity for just distance 16cm'\n",
    "dc.plot_decoding_accuracy(confusion_mat,confusion_z,class_labels=['A','B','C','D','E','F','G','H'],annot=False,title=title)"
   ]
  },
  {
   "cell_type": "code",
   "execution_count": null,
   "metadata": {},
   "outputs": [],
   "source": []
  }
 ],
 "metadata": {
  "kernelspec": {
   "display_name": "Python 3",
   "language": "python",
   "name": "python3"
  },
  "language_info": {
   "codemirror_mode": {
    "name": "ipython",
    "version": 3
   },
   "file_extension": ".py",
   "mimetype": "text/x-python",
   "name": "python",
   "nbconvert_exporter": "python",
   "pygments_lexer": "ipython3",
   "version": "3.6.11"
  }
 },
 "nbformat": 4,
 "nbformat_minor": 4
}
