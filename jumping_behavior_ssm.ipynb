{
 "cells": [
  {
   "cell_type": "code",
   "execution_count": 10,
   "metadata": {},
   "outputs": [
    {
     "name": "stdout",
     "output_type": "stream",
     "text": [
      "The autoreload extension is already loaded. To reload it, use:\n",
      "  %reload_ext autoreload\n"
     ]
    }
   ],
   "source": [
    "%load_ext autoreload\n",
    "%autoreload 2\n",
    "\n",
    "#Misc\n",
    "import time, os, sys, pdb\n",
    "from glob import glob\n",
    "from fnmatch import fnmatch\n",
    "\n",
    "#Base\n",
    "import numpy as np\n",
    "import pandas as pd\n",
    "import scipy.stats as st\n",
    "\n",
    "#Save\n",
    "import json\n",
    "import scipy.io as sio\n",
    "import h5py\n",
    "import io_dict_to_hdf5 as ioh5\n",
    "\n",
    "#Plot\n",
    "import matplotlib.pyplot as plt\n",
    "import seaborn as sns\n",
    "from matplotlib.backends.backend_pdf import PdfPages\n",
    "# cmap = usrplt.gradient_cmap(usrplt.color_palette)\n",
    "sns.set_style(\"ticks\")\n",
    "\n",
    "#Model\n",
    "import ssm\n",
    "\n",
    "#User\n",
    "import util\n",
    "import plotting as usrplt\n",
    "ResultsDir = './results/single_model_fits'"
   ]
  },
  {
   "cell_type": "code",
   "execution_count": 36,
   "metadata": {},
   "outputs": [],
   "source": [
    "opt = {'transitions': 'standard','observations':'autoregressive','kappa': 1E4, 'AR_lags':1,'K':10,'downsample_factor':2,'MAP_threshold':0.75}\n"
   ]
  },
  {
   "cell_type": "code",
   "execution_count": 45,
   "metadata": {},
   "outputs": [
    {
     "name": "stdout",
     "output_type": "stream",
     "text": [
      "> \u001b[0;32m<ipython-input-45-6984ce8d5489>\u001b[0m(32)\u001b[0;36m<module>\u001b[0;34m()\u001b[0m\n",
      "\u001b[0;32m     29 \u001b[0;31m        \u001b[0mll_list\u001b[0m\u001b[0;34m.\u001b[0m\u001b[0mappend\u001b[0m\u001b[0;34m(\u001b[0m\u001b[0;34m(\u001b[0m\u001b[0mmask\u001b[0m\u001b[0;34m,\u001b[0m\u001b[0mmask\u001b[0m\u001b[0;34m)\u001b[0m\u001b[0;34m)\u001b[0m\u001b[0;34m\u001b[0m\u001b[0;34m\u001b[0m\u001b[0m\n",
      "\u001b[0m\u001b[0;32m     30 \u001b[0;31m    \u001b[0mpdb\u001b[0m\u001b[0;34m.\u001b[0m\u001b[0mset_trace\u001b[0m\u001b[0;34m(\u001b[0m\u001b[0;34m)\u001b[0m\u001b[0;34m\u001b[0m\u001b[0;34m\u001b[0m\u001b[0m\n",
      "\u001b[0m\u001b[0;32m     31 \u001b[0;31m    \u001b[0;31m#Downsample if required #data_list_fullres.append(tmp)\u001b[0m\u001b[0;34m\u001b[0m\u001b[0;34m\u001b[0m\u001b[0;34m\u001b[0m\u001b[0m\n",
      "\u001b[0m\u001b[0;32m---> 32 \u001b[0;31m    \u001b[0mtmp\u001b[0m \u001b[0;34m=\u001b[0m \u001b[0mnp\u001b[0m\u001b[0;34m.\u001b[0m\u001b[0mvstack\u001b[0m\u001b[0;34m(\u001b[0m\u001b[0mxy_list\u001b[0m\u001b[0;34m)\u001b[0m\u001b[0;34m[\u001b[0m\u001b[0;34m:\u001b[0m\u001b[0;34m,\u001b[0m\u001b[0;36m2\u001b[0m\u001b[0;34m:\u001b[0m\u001b[0;34m-\u001b[0m\u001b[0;36m2\u001b[0m\u001b[0;34m]\u001b[0m\u001b[0;34m.\u001b[0m\u001b[0mT\u001b[0m\u001b[0;34m;\u001b[0m \u001b[0mtmp2\u001b[0m \u001b[0;34m=\u001b[0m \u001b[0mtmp\u001b[0m \u001b[0;32mif\u001b[0m \u001b[0mdsf\u001b[0m \u001b[0;34m==\u001b[0m \u001b[0;36m1\u001b[0m \u001b[0;32melse\u001b[0m \u001b[0mtmp\u001b[0m\u001b[0;34m[\u001b[0m\u001b[0;34m:\u001b[0m\u001b[0;34m-\u001b[0m\u001b[0;36m1\u001b[0m\u001b[0;34m:\u001b[0m\u001b[0mdsf\u001b[0m\u001b[0;34m,\u001b[0m\u001b[0;34m:\u001b[0m\u001b[0;34m]\u001b[0m\u001b[0;34m;\u001b[0m \u001b[0mdata_list\u001b[0m\u001b[0;34m.\u001b[0m\u001b[0mappend\u001b[0m\u001b[0;34m(\u001b[0m\u001b[0mtmp2\u001b[0m\u001b[0;34m)\u001b[0m\u001b[0;34m\u001b[0m\u001b[0;34m\u001b[0m\u001b[0m\n",
      "\u001b[0m\u001b[0;32m     33 \u001b[0;31m    \u001b[0mtmp\u001b[0m \u001b[0;34m=\u001b[0m \u001b[0mnp\u001b[0m\u001b[0;34m.\u001b[0m\u001b[0mvstack\u001b[0m\u001b[0;34m(\u001b[0m\u001b[0mll_list\u001b[0m\u001b[0;34m)\u001b[0m\u001b[0;34m[\u001b[0m\u001b[0;34m:\u001b[0m\u001b[0;34m,\u001b[0m\u001b[0;36m2\u001b[0m\u001b[0;34m:\u001b[0m\u001b[0;34m-\u001b[0m\u001b[0;36m2\u001b[0m\u001b[0;34m]\u001b[0m\u001b[0;34m.\u001b[0m\u001b[0mT\u001b[0m\u001b[0;34m;\u001b[0m \u001b[0mtmp2\u001b[0m \u001b[0;34m=\u001b[0m \u001b[0mtmp\u001b[0m \u001b[0;32mif\u001b[0m \u001b[0mdsf\u001b[0m \u001b[0;34m==\u001b[0m \u001b[0;36m1\u001b[0m \u001b[0;32melse\u001b[0m \u001b[0mtmp\u001b[0m\u001b[0;34m[\u001b[0m\u001b[0;34m:\u001b[0m\u001b[0;34m-\u001b[0m\u001b[0;36m1\u001b[0m\u001b[0;34m:\u001b[0m\u001b[0mdsf\u001b[0m\u001b[0;34m,\u001b[0m\u001b[0;34m:\u001b[0m\u001b[0;34m]\u001b[0m\u001b[0;34m;\u001b[0m \u001b[0mmask_list\u001b[0m\u001b[0;34m.\u001b[0m\u001b[0mappend\u001b[0m\u001b[0;34m(\u001b[0m\u001b[0mtmp2\u001b[0m\u001b[0;34m)\u001b[0m\u001b[0;34m\u001b[0m\u001b[0;34m\u001b[0m\u001b[0m\n",
      "\u001b[0m\n"
     ]
    },
    {
     "name": "stdin",
     "output_type": "stream",
     "text": [
      "ipdb>  np.vstack(xy_list)[:,2:-2].T.shape\n"
     ]
    },
    {
     "name": "stdout",
     "output_type": "stream",
     "text": [
      "(205, 6)\n"
     ]
    },
    {
     "name": "stdin",
     "output_type": "stream",
     "text": [
      "ipdb>  q\n"
     ]
    },
    {
     "ename": "BdbQuit",
     "evalue": "",
     "output_type": "error",
     "traceback": [
      "\u001b[0;31m---------------------------------------------------------------------------\u001b[0m",
      "\u001b[0;31mBdbQuit\u001b[0m                                   Traceback (most recent call last)",
      "\u001b[0;32m<ipython-input-45-6984ce8d5489>\u001b[0m in \u001b[0;36m<module>\u001b[0;34m\u001b[0m\n\u001b[1;32m     30\u001b[0m     \u001b[0mpdb\u001b[0m\u001b[0;34m.\u001b[0m\u001b[0mset_trace\u001b[0m\u001b[0;34m(\u001b[0m\u001b[0;34m)\u001b[0m\u001b[0;34m\u001b[0m\u001b[0;34m\u001b[0m\u001b[0m\n\u001b[1;32m     31\u001b[0m     \u001b[0;31m#Downsample if required #data_list_fullres.append(tmp)\u001b[0m\u001b[0;34m\u001b[0m\u001b[0;34m\u001b[0m\u001b[0;34m\u001b[0m\u001b[0m\n\u001b[0;32m---> 32\u001b[0;31m     \u001b[0mtmp\u001b[0m \u001b[0;34m=\u001b[0m \u001b[0mnp\u001b[0m\u001b[0;34m.\u001b[0m\u001b[0mvstack\u001b[0m\u001b[0;34m(\u001b[0m\u001b[0mxy_list\u001b[0m\u001b[0;34m)\u001b[0m\u001b[0;34m[\u001b[0m\u001b[0;34m:\u001b[0m\u001b[0;34m,\u001b[0m\u001b[0;36m2\u001b[0m\u001b[0;34m:\u001b[0m\u001b[0;34m-\u001b[0m\u001b[0;36m2\u001b[0m\u001b[0;34m]\u001b[0m\u001b[0;34m.\u001b[0m\u001b[0mT\u001b[0m\u001b[0;34m;\u001b[0m \u001b[0mtmp2\u001b[0m \u001b[0;34m=\u001b[0m \u001b[0mtmp\u001b[0m \u001b[0;32mif\u001b[0m \u001b[0mdsf\u001b[0m \u001b[0;34m==\u001b[0m \u001b[0;36m1\u001b[0m \u001b[0;32melse\u001b[0m \u001b[0mtmp\u001b[0m\u001b[0;34m[\u001b[0m\u001b[0;34m:\u001b[0m\u001b[0;34m-\u001b[0m\u001b[0;36m1\u001b[0m\u001b[0;34m:\u001b[0m\u001b[0mdsf\u001b[0m\u001b[0;34m,\u001b[0m\u001b[0;34m:\u001b[0m\u001b[0;34m]\u001b[0m\u001b[0;34m;\u001b[0m \u001b[0mdata_list\u001b[0m\u001b[0;34m.\u001b[0m\u001b[0mappend\u001b[0m\u001b[0;34m(\u001b[0m\u001b[0mtmp2\u001b[0m\u001b[0;34m)\u001b[0m\u001b[0;34m\u001b[0m\u001b[0;34m\u001b[0m\u001b[0m\n\u001b[0m\u001b[1;32m     33\u001b[0m     \u001b[0mtmp\u001b[0m \u001b[0;34m=\u001b[0m \u001b[0mnp\u001b[0m\u001b[0;34m.\u001b[0m\u001b[0mvstack\u001b[0m\u001b[0;34m(\u001b[0m\u001b[0mll_list\u001b[0m\u001b[0;34m)\u001b[0m\u001b[0;34m[\u001b[0m\u001b[0;34m:\u001b[0m\u001b[0;34m,\u001b[0m\u001b[0;36m2\u001b[0m\u001b[0;34m:\u001b[0m\u001b[0;34m-\u001b[0m\u001b[0;36m2\u001b[0m\u001b[0;34m]\u001b[0m\u001b[0;34m.\u001b[0m\u001b[0mT\u001b[0m\u001b[0;34m;\u001b[0m \u001b[0mtmp2\u001b[0m \u001b[0;34m=\u001b[0m \u001b[0mtmp\u001b[0m \u001b[0;32mif\u001b[0m \u001b[0mdsf\u001b[0m \u001b[0;34m==\u001b[0m \u001b[0;36m1\u001b[0m \u001b[0;32melse\u001b[0m \u001b[0mtmp\u001b[0m\u001b[0;34m[\u001b[0m\u001b[0;34m:\u001b[0m\u001b[0;34m-\u001b[0m\u001b[0;36m1\u001b[0m\u001b[0;34m:\u001b[0m\u001b[0mdsf\u001b[0m\u001b[0;34m,\u001b[0m\u001b[0;34m:\u001b[0m\u001b[0;34m]\u001b[0m\u001b[0;34m;\u001b[0m \u001b[0mmask_list\u001b[0m\u001b[0;34m.\u001b[0m\u001b[0mappend\u001b[0m\u001b[0;34m(\u001b[0m\u001b[0mtmp2\u001b[0m\u001b[0;34m)\u001b[0m\u001b[0;34m\u001b[0m\u001b[0;34m\u001b[0m\u001b[0m\n",
      "\u001b[0;32m<ipython-input-45-6984ce8d5489>\u001b[0m in \u001b[0;36m<module>\u001b[0;34m\u001b[0m\n\u001b[1;32m     30\u001b[0m     \u001b[0mpdb\u001b[0m\u001b[0;34m.\u001b[0m\u001b[0mset_trace\u001b[0m\u001b[0;34m(\u001b[0m\u001b[0;34m)\u001b[0m\u001b[0;34m\u001b[0m\u001b[0;34m\u001b[0m\u001b[0m\n\u001b[1;32m     31\u001b[0m     \u001b[0;31m#Downsample if required #data_list_fullres.append(tmp)\u001b[0m\u001b[0;34m\u001b[0m\u001b[0;34m\u001b[0m\u001b[0;34m\u001b[0m\u001b[0m\n\u001b[0;32m---> 32\u001b[0;31m     \u001b[0mtmp\u001b[0m \u001b[0;34m=\u001b[0m \u001b[0mnp\u001b[0m\u001b[0;34m.\u001b[0m\u001b[0mvstack\u001b[0m\u001b[0;34m(\u001b[0m\u001b[0mxy_list\u001b[0m\u001b[0;34m)\u001b[0m\u001b[0;34m[\u001b[0m\u001b[0;34m:\u001b[0m\u001b[0;34m,\u001b[0m\u001b[0;36m2\u001b[0m\u001b[0;34m:\u001b[0m\u001b[0;34m-\u001b[0m\u001b[0;36m2\u001b[0m\u001b[0;34m]\u001b[0m\u001b[0;34m.\u001b[0m\u001b[0mT\u001b[0m\u001b[0;34m;\u001b[0m \u001b[0mtmp2\u001b[0m \u001b[0;34m=\u001b[0m \u001b[0mtmp\u001b[0m \u001b[0;32mif\u001b[0m \u001b[0mdsf\u001b[0m \u001b[0;34m==\u001b[0m \u001b[0;36m1\u001b[0m \u001b[0;32melse\u001b[0m \u001b[0mtmp\u001b[0m\u001b[0;34m[\u001b[0m\u001b[0;34m:\u001b[0m\u001b[0;34m-\u001b[0m\u001b[0;36m1\u001b[0m\u001b[0;34m:\u001b[0m\u001b[0mdsf\u001b[0m\u001b[0;34m,\u001b[0m\u001b[0;34m:\u001b[0m\u001b[0;34m]\u001b[0m\u001b[0;34m;\u001b[0m \u001b[0mdata_list\u001b[0m\u001b[0;34m.\u001b[0m\u001b[0mappend\u001b[0m\u001b[0;34m(\u001b[0m\u001b[0mtmp2\u001b[0m\u001b[0;34m)\u001b[0m\u001b[0;34m\u001b[0m\u001b[0;34m\u001b[0m\u001b[0m\n\u001b[0m\u001b[1;32m     33\u001b[0m     \u001b[0mtmp\u001b[0m \u001b[0;34m=\u001b[0m \u001b[0mnp\u001b[0m\u001b[0;34m.\u001b[0m\u001b[0mvstack\u001b[0m\u001b[0;34m(\u001b[0m\u001b[0mll_list\u001b[0m\u001b[0;34m)\u001b[0m\u001b[0;34m[\u001b[0m\u001b[0;34m:\u001b[0m\u001b[0;34m,\u001b[0m\u001b[0;36m2\u001b[0m\u001b[0;34m:\u001b[0m\u001b[0;34m-\u001b[0m\u001b[0;36m2\u001b[0m\u001b[0;34m]\u001b[0m\u001b[0;34m.\u001b[0m\u001b[0mT\u001b[0m\u001b[0;34m;\u001b[0m \u001b[0mtmp2\u001b[0m \u001b[0;34m=\u001b[0m \u001b[0mtmp\u001b[0m \u001b[0;32mif\u001b[0m \u001b[0mdsf\u001b[0m \u001b[0;34m==\u001b[0m \u001b[0;36m1\u001b[0m \u001b[0;32melse\u001b[0m \u001b[0mtmp\u001b[0m\u001b[0;34m[\u001b[0m\u001b[0;34m:\u001b[0m\u001b[0;34m-\u001b[0m\u001b[0;36m1\u001b[0m\u001b[0;34m:\u001b[0m\u001b[0mdsf\u001b[0m\u001b[0;34m,\u001b[0m\u001b[0;34m:\u001b[0m\u001b[0;34m]\u001b[0m\u001b[0;34m;\u001b[0m \u001b[0mmask_list\u001b[0m\u001b[0;34m.\u001b[0m\u001b[0mappend\u001b[0m\u001b[0;34m(\u001b[0m\u001b[0mtmp2\u001b[0m\u001b[0;34m)\u001b[0m\u001b[0;34m\u001b[0m\u001b[0;34m\u001b[0m\u001b[0m\n",
      "\u001b[0;32m~/miniconda3/envs/ssm/lib/python3.6/bdb.py\u001b[0m in \u001b[0;36mtrace_dispatch\u001b[0;34m(self, frame, event, arg)\u001b[0m\n\u001b[1;32m     49\u001b[0m             \u001b[0;32mreturn\u001b[0m \u001b[0;31m# None\u001b[0m\u001b[0;34m\u001b[0m\u001b[0;34m\u001b[0m\u001b[0m\n\u001b[1;32m     50\u001b[0m         \u001b[0;32mif\u001b[0m \u001b[0mevent\u001b[0m \u001b[0;34m==\u001b[0m \u001b[0;34m'line'\u001b[0m\u001b[0;34m:\u001b[0m\u001b[0;34m\u001b[0m\u001b[0;34m\u001b[0m\u001b[0m\n\u001b[0;32m---> 51\u001b[0;31m             \u001b[0;32mreturn\u001b[0m \u001b[0mself\u001b[0m\u001b[0;34m.\u001b[0m\u001b[0mdispatch_line\u001b[0m\u001b[0;34m(\u001b[0m\u001b[0mframe\u001b[0m\u001b[0;34m)\u001b[0m\u001b[0;34m\u001b[0m\u001b[0;34m\u001b[0m\u001b[0m\n\u001b[0m\u001b[1;32m     52\u001b[0m         \u001b[0;32mif\u001b[0m \u001b[0mevent\u001b[0m \u001b[0;34m==\u001b[0m \u001b[0;34m'call'\u001b[0m\u001b[0;34m:\u001b[0m\u001b[0;34m\u001b[0m\u001b[0;34m\u001b[0m\u001b[0m\n\u001b[1;32m     53\u001b[0m             \u001b[0;32mreturn\u001b[0m \u001b[0mself\u001b[0m\u001b[0;34m.\u001b[0m\u001b[0mdispatch_call\u001b[0m\u001b[0;34m(\u001b[0m\u001b[0mframe\u001b[0m\u001b[0;34m,\u001b[0m \u001b[0marg\u001b[0m\u001b[0;34m)\u001b[0m\u001b[0;34m\u001b[0m\u001b[0;34m\u001b[0m\u001b[0m\n",
      "\u001b[0;32m~/miniconda3/envs/ssm/lib/python3.6/bdb.py\u001b[0m in \u001b[0;36mdispatch_line\u001b[0;34m(self, frame)\u001b[0m\n\u001b[1;32m     68\u001b[0m         \u001b[0;32mif\u001b[0m \u001b[0mself\u001b[0m\u001b[0;34m.\u001b[0m\u001b[0mstop_here\u001b[0m\u001b[0;34m(\u001b[0m\u001b[0mframe\u001b[0m\u001b[0;34m)\u001b[0m \u001b[0;32mor\u001b[0m \u001b[0mself\u001b[0m\u001b[0;34m.\u001b[0m\u001b[0mbreak_here\u001b[0m\u001b[0;34m(\u001b[0m\u001b[0mframe\u001b[0m\u001b[0;34m)\u001b[0m\u001b[0;34m:\u001b[0m\u001b[0;34m\u001b[0m\u001b[0;34m\u001b[0m\u001b[0m\n\u001b[1;32m     69\u001b[0m             \u001b[0mself\u001b[0m\u001b[0;34m.\u001b[0m\u001b[0muser_line\u001b[0m\u001b[0;34m(\u001b[0m\u001b[0mframe\u001b[0m\u001b[0;34m)\u001b[0m\u001b[0;34m\u001b[0m\u001b[0;34m\u001b[0m\u001b[0m\n\u001b[0;32m---> 70\u001b[0;31m             \u001b[0;32mif\u001b[0m \u001b[0mself\u001b[0m\u001b[0;34m.\u001b[0m\u001b[0mquitting\u001b[0m\u001b[0;34m:\u001b[0m \u001b[0;32mraise\u001b[0m \u001b[0mBdbQuit\u001b[0m\u001b[0;34m\u001b[0m\u001b[0;34m\u001b[0m\u001b[0m\n\u001b[0m\u001b[1;32m     71\u001b[0m         \u001b[0;32mreturn\u001b[0m \u001b[0mself\u001b[0m\u001b[0;34m.\u001b[0m\u001b[0mtrace_dispatch\u001b[0m\u001b[0;34m\u001b[0m\u001b[0;34m\u001b[0m\u001b[0m\n\u001b[1;32m     72\u001b[0m \u001b[0;34m\u001b[0m\u001b[0m\n",
      "\u001b[0;31mBdbQuit\u001b[0m: "
     ]
    }
   ],
   "source": [
    "data_df = pd.read_hdf('./data/jumping_data_102220.h5')\n",
    "nTrials = len(data_df)\n",
    "    \n",
    "#DLC tracking confidence threshold at which to mask out data\n",
    "confidence_threshold = 0.8\n",
    "\n",
    "#downsample_factor\n",
    "dsf = 2\n",
    "\n",
    "#Loop over trials and reformat data for ARHMM\n",
    "data_list = []; mask_list = []\n",
    "data_list_fullres = []\n",
    "for iTrial in range(nTrials):\n",
    "    #Get coordinates of Take-Off platform\n",
    "    xc = np.nanmean(data_df.loc[iTrial]['Side TakeFL x'])\n",
    "    yc = np.nanmean(data_df.loc[iTrial]['Side TakeFL y'])\n",
    "    \n",
    "    xy_list = []; ll_list = []\n",
    "    for ii, ptstr in enumerate(['Nose','LEye','LEar']):\n",
    "        x = data_df.loc[iTrial]['Side {} x'.format(ptstr)]\n",
    "        y = data_df.loc[iTrial]['Side {} y'.format(ptstr)]\n",
    "        llhood = data_df.loc[iTrial]['Side {} likelihood'.format(ptstr)]\n",
    "        \n",
    "        #Coordinates relative to take-off platform\n",
    "        xy_list.append((x-xc,y-yc))\n",
    "        \n",
    "        #Create mask for points that have a confidence lower than the given threshold\n",
    "        mask = llhood > confidence_threshold\n",
    "        ll_list.append((mask,mask))\n",
    "    pdb.set_trace()\n",
    "    #Downsample if required #data_list_fullres.append(tmp)\n",
    "    tmp = np.vstack(xy_list)[:,2:-2].T; tmp2 = tmp if dsf == 1 else tmp[:-1:dsf,:]; data_list.append(tmp2)\n",
    "    tmp = np.vstack(ll_list)[:,2:-2].T; tmp2 = tmp if dsf == 1 else tmp[:-1:dsf,:]; mask_list.append(tmp2)\n"
   ]
  },
  {
   "cell_type": "code",
   "execution_count": 25,
   "metadata": {},
   "outputs": [],
   "source": [
    "data_list, mask_list, data_df = util.read_data(dsf=2)"
   ]
  },
  {
   "cell_type": "code",
   "execution_count": 23,
   "metadata": {},
   "outputs": [
    {
     "data": {
      "text/html": [
       "<div>\n",
       "<style scoped>\n",
       "    .dataframe tbody tr th:only-of-type {\n",
       "        vertical-align: middle;\n",
       "    }\n",
       "\n",
       "    .dataframe tbody tr th {\n",
       "        vertical-align: top;\n",
       "    }\n",
       "\n",
       "    .dataframe thead th {\n",
       "        text-align: right;\n",
       "    }\n",
       "</style>\n",
       "<table border=\"1\" class=\"dataframe\">\n",
       "  <thead>\n",
       "    <tr style=\"text-align: right;\">\n",
       "      <th></th>\n",
       "      <th>expdate</th>\n",
       "      <th>subject</th>\n",
       "      <th>condition</th>\n",
       "      <th>platform</th>\n",
       "      <th>distance</th>\n",
       "      <th>success</th>\n",
       "      <th>laser_trial</th>\n",
       "      <th>jump_time</th>\n",
       "      <th>trial</th>\n",
       "      <th>fps</th>\n",
       "      <th>...</th>\n",
       "      <th>Side LEar y</th>\n",
       "      <th>Top LEar y</th>\n",
       "      <th>Side LEar likelihood</th>\n",
       "      <th>Top LEar likelihood</th>\n",
       "      <th>Side TakeFL x</th>\n",
       "      <th>Top TakeFL x</th>\n",
       "      <th>Side TakeFL y</th>\n",
       "      <th>Top TakeFL y</th>\n",
       "      <th>Side TakeFL likelihood</th>\n",
       "      <th>Top TakeFL likelihood</th>\n",
       "    </tr>\n",
       "  </thead>\n",
       "  <tbody>\n",
       "    <tr>\n",
       "      <th>0</th>\n",
       "      <td>061920</td>\n",
       "      <td>J157BLT</td>\n",
       "      <td>control</td>\n",
       "      <td>2</td>\n",
       "      <td>8</td>\n",
       "      <td>2</td>\n",
       "      <td>laser off</td>\n",
       "      <td>125</td>\n",
       "      <td>1</td>\n",
       "      <td>60</td>\n",
       "      <td>...</td>\n",
       "      <td>[425.385317744935, 366.33104528399747, 307.276...</td>\n",
       "      <td>[410.1932973761308, 352.0100881476151, 293.743...</td>\n",
       "      <td>[0.9999992847442627, 0.9999996423721313, 0.999...</td>\n",
       "      <td>[0.9999997615814209, 0.9999998807907104, 0.999...</td>\n",
       "      <td>[343.8412719726563, 458.4371704101562, 573.033...</td>\n",
       "      <td>[314.5657470703125, 419.42099609375003, 524.27...</td>\n",
       "      <td>[449.0091425115412, 384.95652410333804, 320.90...</td>\n",
       "      <td>[401.4983811248759, 342.47820290221966, 283.45...</td>\n",
       "      <td>[0.999998927116394, 0.9999992847442627, 0.9999...</td>\n",
       "      <td>[0.022194653749465942, 0.013417750597000122, 0...</td>\n",
       "    </tr>\n",
       "    <tr>\n",
       "      <th>1</th>\n",
       "      <td>061920</td>\n",
       "      <td>J157BLT</td>\n",
       "      <td>control</td>\n",
       "      <td>1</td>\n",
       "      <td>20</td>\n",
       "      <td>2</td>\n",
       "      <td>laser off</td>\n",
       "      <td>222</td>\n",
       "      <td>2</td>\n",
       "      <td>60</td>\n",
       "      <td>...</td>\n",
       "      <td>[433.1472437062976, 376.13851567895387, 319.12...</td>\n",
       "      <td>[410.46880031185265, 353.5964736516964, 296.65...</td>\n",
       "      <td>[0.9999973773956299, 0.9999958276748657, 0.999...</td>\n",
       "      <td>[0.9999992847442627, 0.9999996423721313, 0.999...</td>\n",
       "      <td>[343.52678222656255, 458.06650390625003, 572.6...</td>\n",
       "      <td>[312.7005615234375, 416.93408203125, 521.16760...</td>\n",
       "      <td>[447.5615396573399, 383.70670567296486, 319.85...</td>\n",
       "      <td>[404.90802086255826, 346.7887886848239, 288.66...</td>\n",
       "      <td>[0.9999996423721313, 0.9999996423721313, 0.999...</td>\n",
       "      <td>[0.04482194781303406, 0.06799852848052979, 0.0...</td>\n",
       "    </tr>\n",
       "    <tr>\n",
       "      <th>2</th>\n",
       "      <td>061920</td>\n",
       "      <td>J157BLT</td>\n",
       "      <td>control</td>\n",
       "      <td>3</td>\n",
       "      <td>8</td>\n",
       "      <td>1</td>\n",
       "      <td>laser off</td>\n",
       "      <td>355</td>\n",
       "      <td>3</td>\n",
       "      <td>60</td>\n",
       "      <td>...</td>\n",
       "      <td>[407.3741518887608, 348.01848782626075, 288.58...</td>\n",
       "      <td>[361.26440623890267, 306.1514179576527, 251.19...</td>\n",
       "      <td>[0.9999998807907104, 0.9999998807907104, 0.999...</td>\n",
       "      <td>[0.9999997615814209, 0.9999997615814209, 0.999...</td>\n",
       "      <td>[343.5391479492188, 457.974072265625, 572.3549...</td>\n",
       "      <td>[314.574169921875, 419.43222656250003, 524.290...</td>\n",
       "      <td>[446.51506847034796, 382.5187916148792, 318.38...</td>\n",
       "      <td>[402.4329915364583, 344.60011800130206, 286.76...</td>\n",
       "      <td>[0.9999998807907104, 0.9999998211860657, 0.999...</td>\n",
       "      <td>[0.8656889796257019, 0.7850416302680969, 0.630...</td>\n",
       "    </tr>\n",
       "    <tr>\n",
       "      <th>3</th>\n",
       "      <td>061920</td>\n",
       "      <td>J157BLT</td>\n",
       "      <td>control</td>\n",
       "      <td>1</td>\n",
       "      <td>12</td>\n",
       "      <td>1</td>\n",
       "      <td>laser off</td>\n",
       "      <td>514</td>\n",
       "      <td>4</td>\n",
       "      <td>60</td>\n",
       "      <td>...</td>\n",
       "      <td>[426.17190549660387, 369.09125364113515, 311.7...</td>\n",
       "      <td>[375.1970238334944, 319.0105187065413, 262.857...</td>\n",
       "      <td>[0.9999997615814209, 0.9999995231628418, 0.999...</td>\n",
       "      <td>[0.9999972581863403, 0.9999987483024597, 0.999...</td>\n",
       "      <td>[343.9951171875, 458.68979492187503, 573.36568...</td>\n",
       "      <td>[315.40451660156253, 420.53935546875005, 525.6...</td>\n",
       "      <td>[448.9589674068071, 385.0646436763384, 321.142...</td>\n",
       "      <td>[405.64251222127933, 347.9299939107325, 290.21...</td>\n",
       "      <td>[0.9999951720237732, 0.9999984502792358, 0.999...</td>\n",
       "      <td>[0.004946380853652954, 0.004948854446411133, 0...</td>\n",
       "    </tr>\n",
       "    <tr>\n",
       "      <th>4</th>\n",
       "      <td>061920</td>\n",
       "      <td>J157BLT</td>\n",
       "      <td>control</td>\n",
       "      <td>2</td>\n",
       "      <td>12</td>\n",
       "      <td>0</td>\n",
       "      <td>laser off</td>\n",
       "      <td>651</td>\n",
       "      <td>5</td>\n",
       "      <td>60</td>\n",
       "      <td>...</td>\n",
       "      <td>[429.43573380136877, 369.31512833261877, 308.8...</td>\n",
       "      <td>[354.6358043391531, 299.05050770829365, 243.60...</td>\n",
       "      <td>[1.0, 0.9999998807907104, 0.9999995231628418, ...</td>\n",
       "      <td>[0.9999991655349731, 0.9999986886978149, 0.999...</td>\n",
       "      <td>[343.91730957031257, 458.74045410156253, 573.5...</td>\n",
       "      <td>[313.2942993164063, 417.3133544921875, 521.236...</td>\n",
       "      <td>[446.6510607711668, 382.556981181323, 318.4961...</td>\n",
       "      <td>[403.01506375902665, 345.44733914965167, 287.8...</td>\n",
       "      <td>[0.9999997615814209, 0.9999998807907104, 0.999...</td>\n",
       "      <td>[0.9386019706726074, 0.956940770149231, 0.9827...</td>\n",
       "    </tr>\n",
       "  </tbody>\n",
       "</table>\n",
       "<p>5 rows × 47 columns</p>\n",
       "</div>"
      ],
      "text/plain": [
       "  expdate  subject condition  platform  distance  success laser_trial  \\\n",
       "0  061920  J157BLT   control         2         8        2   laser off   \n",
       "1  061920  J157BLT   control         1        20        2   laser off   \n",
       "2  061920  J157BLT   control         3         8        1   laser off   \n",
       "3  061920  J157BLT   control         1        12        1   laser off   \n",
       "4  061920  J157BLT   control         2        12        0   laser off   \n",
       "\n",
       "   jump_time  trial  fps  ...  \\\n",
       "0        125      1   60  ...   \n",
       "1        222      2   60  ...   \n",
       "2        355      3   60  ...   \n",
       "3        514      4   60  ...   \n",
       "4        651      5   60  ...   \n",
       "\n",
       "                                         Side LEar y  \\\n",
       "0  [425.385317744935, 366.33104528399747, 307.276...   \n",
       "1  [433.1472437062976, 376.13851567895387, 319.12...   \n",
       "2  [407.3741518887608, 348.01848782626075, 288.58...   \n",
       "3  [426.17190549660387, 369.09125364113515, 311.7...   \n",
       "4  [429.43573380136877, 369.31512833261877, 308.8...   \n",
       "\n",
       "                                          Top LEar y  \\\n",
       "0  [410.1932973761308, 352.0100881476151, 293.743...   \n",
       "1  [410.46880031185265, 353.5964736516964, 296.65...   \n",
       "2  [361.26440623890267, 306.1514179576527, 251.19...   \n",
       "3  [375.1970238334944, 319.0105187065413, 262.857...   \n",
       "4  [354.6358043391531, 299.05050770829365, 243.60...   \n",
       "\n",
       "                                Side LEar likelihood  \\\n",
       "0  [0.9999992847442627, 0.9999996423721313, 0.999...   \n",
       "1  [0.9999973773956299, 0.9999958276748657, 0.999...   \n",
       "2  [0.9999998807907104, 0.9999998807907104, 0.999...   \n",
       "3  [0.9999997615814209, 0.9999995231628418, 0.999...   \n",
       "4  [1.0, 0.9999998807907104, 0.9999995231628418, ...   \n",
       "\n",
       "                                 Top LEar likelihood  \\\n",
       "0  [0.9999997615814209, 0.9999998807907104, 0.999...   \n",
       "1  [0.9999992847442627, 0.9999996423721313, 0.999...   \n",
       "2  [0.9999997615814209, 0.9999997615814209, 0.999...   \n",
       "3  [0.9999972581863403, 0.9999987483024597, 0.999...   \n",
       "4  [0.9999991655349731, 0.9999986886978149, 0.999...   \n",
       "\n",
       "                                       Side TakeFL x  \\\n",
       "0  [343.8412719726563, 458.4371704101562, 573.033...   \n",
       "1  [343.52678222656255, 458.06650390625003, 572.6...   \n",
       "2  [343.5391479492188, 457.974072265625, 572.3549...   \n",
       "3  [343.9951171875, 458.68979492187503, 573.36568...   \n",
       "4  [343.91730957031257, 458.74045410156253, 573.5...   \n",
       "\n",
       "                                        Top TakeFL x  \\\n",
       "0  [314.5657470703125, 419.42099609375003, 524.27...   \n",
       "1  [312.7005615234375, 416.93408203125, 521.16760...   \n",
       "2  [314.574169921875, 419.43222656250003, 524.290...   \n",
       "3  [315.40451660156253, 420.53935546875005, 525.6...   \n",
       "4  [313.2942993164063, 417.3133544921875, 521.236...   \n",
       "\n",
       "                                       Side TakeFL y  \\\n",
       "0  [449.0091425115412, 384.95652410333804, 320.90...   \n",
       "1  [447.5615396573399, 383.70670567296486, 319.85...   \n",
       "2  [446.51506847034796, 382.5187916148792, 318.38...   \n",
       "3  [448.9589674068071, 385.0646436763384, 321.142...   \n",
       "4  [446.6510607711668, 382.556981181323, 318.4961...   \n",
       "\n",
       "                                        Top TakeFL y  \\\n",
       "0  [401.4983811248759, 342.47820290221966, 283.45...   \n",
       "1  [404.90802086255826, 346.7887886848239, 288.66...   \n",
       "2  [402.4329915364583, 344.60011800130206, 286.76...   \n",
       "3  [405.64251222127933, 347.9299939107325, 290.21...   \n",
       "4  [403.01506375902665, 345.44733914965167, 287.8...   \n",
       "\n",
       "                              Side TakeFL likelihood  \\\n",
       "0  [0.999998927116394, 0.9999992847442627, 0.9999...   \n",
       "1  [0.9999996423721313, 0.9999996423721313, 0.999...   \n",
       "2  [0.9999998807907104, 0.9999998211860657, 0.999...   \n",
       "3  [0.9999951720237732, 0.9999984502792358, 0.999...   \n",
       "4  [0.9999997615814209, 0.9999998807907104, 0.999...   \n",
       "\n",
       "                               Top TakeFL likelihood  \n",
       "0  [0.022194653749465942, 0.013417750597000122, 0...  \n",
       "1  [0.04482194781303406, 0.06799852848052979, 0.0...  \n",
       "2  [0.8656889796257019, 0.7850416302680969, 0.630...  \n",
       "3  [0.004946380853652954, 0.004948854446411133, 0...  \n",
       "4  [0.9386019706726074, 0.956940770149231, 0.9827...  \n",
       "\n",
       "[5 rows x 47 columns]"
      ]
     },
     "execution_count": 23,
     "metadata": {},
     "output_type": "execute_result"
    }
   ],
   "source": [
    "indy_dict = data_df.groupby(['condition','distance','success','laser_trial']).indices()"
   ]
  },
  {
   "cell_type": "code",
   "execution_count": null,
   "metadata": {},
   "outputs": [
    {
     "name": "stderr",
     "output_type": "stream",
     "text": [
      "/home/dwyrick/miniconda3/envs/ssm/lib/python3.6/site-packages/autograd/tracer.py:48: RuntimeWarning: divide by zero encountered in log\n",
      "  return f_raw(*args, **kwargs)\n"
     ]
    },
    {
     "data": {
      "application/vnd.jupyter.widget-view+json": {
       "model_id": "530703106e5b4df28da31e7f272e23f4",
       "version_major": 2,
       "version_minor": 0
      },
      "text/plain": [
       "HBox(children=(FloatProgress(value=0.0), HTML(value='')))"
      ]
     },
     "metadata": {},
     "output_type": "display_data"
    },
    {
     "name": "stderr",
     "output_type": "stream",
     "text": [
      "/home/dwyrick/miniconda3/envs/ssm/lib/python3.6/site-packages/autograd/tracer.py:48: RuntimeWarning: divide by zero encountered in log\n",
      "  return f_raw(*args, **kwargs)\n"
     ]
    }
   ],
   "source": [
    "##===== Fit ARHMM to data =====##\n",
    "_, dObs = data_list[0].shape\n",
    "\n",
    "#Number of discrete states\n",
    "K = opt['K']\n",
    "\n",
    "#Initialize basic ARHMM object \n",
    "#lots of parameters we can change; \n",
    "# we can make the transitions sticky or change the probability of transition given some external input;\n",
    "# we can also change the observation class to \"robust_autoregressive\", which \n",
    "arhmm = ssm.HSMM(opt['K'], dObs, observations=opt['observations']) \n",
    "\n",
    "#Fit model to data\n",
    "hmm_lls = arhmm.fit(data_list, method=\"em\")\n",
    "\n",
    "#Get fit model parameters\n",
    "param_dict = util.params_to_dict(arhmm.params, opt)\n"
   ]
  },
  {
   "cell_type": "code",
   "execution_count": 32,
   "metadata": {},
   "outputs": [],
   "source": [
    "#For plotting below\n",
    "color_names_K = usrplt.color_names[:K]; color_names_K.append(usrplt.color_names[-1])\n",
    "color_palette = sns.xkcd_palette(color_names_K)\n",
    "cmap = usrplt.gradient_cmap(sns.xkcd_palette(usrplt.color_names[:K]))"
   ]
  },
  {
   "cell_type": "code",
   "execution_count": 33,
   "metadata": {},
   "outputs": [],
   "source": [
    "#Loop over trials and get the maximum a posteriori probability estimate of the latent states\n",
    "trMAPs, trPosteriors, trMasks = util.get_hmm_latents(arhmm, data_list)"
   ]
  },
  {
   "cell_type": "code",
   "execution_count": 34,
   "metadata": {},
   "outputs": [],
   "source": [
    "##===== Calculate state duration and state usage =====##\n",
    "state_duration_list, state_startend_list, mean_state_durations, state_usage_pertrial, state_usage = util.get_state_durations(trMAPs, trMasks, K)"
   ]
  },
  {
   "cell_type": "code",
   "execution_count": 37,
   "metadata": {},
   "outputs": [
    {
     "data": {
      "text/plain": [
       "'ARHSMM_lag-1_K-10_dsf-2'"
      ]
     },
     "execution_count": 37,
     "metadata": {},
     "output_type": "execute_result"
    }
   ],
   "source": [
    "#Create base folder for results    \n",
    "timestr = time.strftime('%Y-%m-%d_%H%M')\n",
    "\n",
    "if opt['transitions'] == 'sticky':\n",
    "    tmpstr = 'sticky-ARHMM_lag-{}_K-{:02d}_dsf-{}'.format(opt['AR_lags'],opt['K'],opt['downsample_factor'])\n",
    "    fit_str = '{}_{}'.format(tmpstr,timestr)\n",
    "    fname_sffx = '{}_Kappa-{:.0e}'.format(tmpstr,opt['kappa'])\n",
    "else:\n",
    "    tmpstr = 'ARHSMM_lag-{}_K-{:02d}_dsf-{}'.format(opt['AR_lags'],opt['K'],opt['downsample_factor'])\n",
    "    fit_str = '{}_{}'.format(tmpstr,timestr)\n",
    "    fname_sffx = tmpstr\n",
    "\n",
    "#Create Save Directory\n",
    "SaveDir = os.path.join(ResultsDir,fit_str)\n",
    "opt['SaveDir'] = SaveDir\n",
    "\n",
    "if not os.path.isdir(SaveDir):\n",
    "    os.makedirs(SaveDir)\n",
    "fname_sffx"
   ]
  },
  {
   "cell_type": "code",
   "execution_count": 38,
   "metadata": {},
   "outputs": [],
   "source": [
    "#Save?\n",
    "ioh5.save(os.path.join(SaveDir, 'MAP-seqs_{}.h5'.format(fname_sffx)), \n",
    "  {'trMAPs':trMAPs, 'trPosteriors':trPosteriors,'trMasks':trMasks, \n",
    "   'arhmm_params' : param_dict,'state_usage':state_usage,'hyperparams' : opt})"
   ]
  },
  {
   "cell_type": "code",
   "execution_count": 43,
   "metadata": {},
   "outputs": [
    {
     "data": {
      "image/png": "[encoded data removed]",
      "text/plain": [
       "<Figure size 576x432 with 1 Axes>"
      ]
     },
     "metadata": {},
     "output_type": "display_data"
    }
   ],
   "source": [
    "##===== Let's look at the states! =====##\n",
    "iTrial = 7\n",
    "data = data_list[iTrial]\n",
    "mapseq = trMAPs[iTrial]\n",
    "\n",
    "fig, ax = plt.subplots(figsize=(8,6))\n",
    "ax.set_title('Lag = {}'.format(opt['AR_lags']))\n",
    "ax.plot(data[:,0],data[:,1],'-',color=usrplt.cc[-1],alpha=0.5)\n",
    "\n",
    "\n",
    "for state in np.unique(mapseq):\n",
    "    indy = np.where(mapseq == state)[0]\n",
    "    ax.plot(data[indy,0],data[indy,1],'.',color=usrplt.cc[state],ms=10)\n",
    "\n",
    "ax.plot(0,0,'+k',ms=20)\n",
    "ax.set_aspect('equal', adjustable='box',share=True)\n",
    "\n"
   ]
  },
  {
   "cell_type": "code",
   "execution_count": null,
   "metadata": {},
   "outputs": [],
   "source": [
    "## Calculate & plot state duration and state usage \n",
    "usrplt.plot_state_durations2(state_duration_list,state_usage, K,\n",
    "                            SAVEFIG=True,PlotDir=SaveDir,fname='state-durations_{}.pdf'.format(fname_sffx))\n",
    "\n",
    "#Plot dynamics of latent states\n",
    "if opt['AR_lags'] == 1:\n",
    "    usrplt.plot_dynamics_2d(arhmm,SAVEFIG=True,PlotDir=SaveDir,fname='AR-streamplots_{}.pdf'.format(fname_sffx))\n",
    "\n",
    "## Plot the actual AR matrices, with their corresponding fixed point\n",
    "usrplt.plot_AR_matrices(arhmm, dsf=opt['downsample_factor'],SAVEFIG=True,PlotDir=SaveDir,fname='AR-matrices_{}.pdf'.format(fname_sffx))\n",
    "\n",
    "## Plot example trajectories of actual trajectories for each state\n",
    "usrplt.plot_example_trajectories(state_duration_list, state_startend_list, mean_state_durations, data_list, arhmm, dsf=opt['downsample_factor'],\n",
    "                                 longest=True, SAVEFIG=True,PlotDir=SaveDir,fname='state-trajectories_data_longest-trials_{}.pdf'.format(fname_sffx))\n",
    "\n",
    "## Plot example trajectories of actual trajectories for each state\n",
    "usrplt.plot_example_trajectories(state_duration_list, state_startend_list, mean_state_durations, data_list, arhmm, dsf=opt['downsample_factor'],\n",
    "                                 longest=False, SAVEFIG=True,PlotDir=SaveDir,fname='state-trajectories_data_varying-length_{}.pdf'.format(fname_sffx))\n",
    "\n",
    "## Plot example trajectories simulated from the model for each state\n",
    "usrplt.plot_example_trajectories(state_duration_list, state_startend_list, mean_state_durations, data_list, arhmm, dsf=opt['downsample_factor'],\n",
    "                                 simulated=True, SAVEFIG=True,PlotDir=SaveDir,fname='state-trajectories_simulated_longest-trials_{}.pdf'.format(fname_sffx))\n",
    "\n",
    "## Plot example trajectories simulated from the model for each state\n",
    "usrplt.plot_example_trajectories(state_duration_list, state_startend_list, mean_state_durations, data_list, arhmm, dsf=opt['downsample_factor'],\n",
    "                                 longest=False, simulated=True, SAVEFIG=True,PlotDir=SaveDir,fname='state-trajectories_simulated_varying-length_{}.pdf'.format(fname_sffx))\n",
    "\n",
    "#Calculate empirical transition count matrices\n",
    "TCMs = util.get_transition_count_matrices(trMAPs,trMasks,K,normalize=False)\n",
    "TPM = arhmm.transitions.transition_matrix\n",
    "\n",
    "#Plot the TCMs per condition / success\n",
    "usrplt.plot_transition_matrices_per_condition(TCMs, data_df, TPM, SAVEFIG=True, PlotDir=SaveDir,\n",
    "                                              fname='transition-count-matrices_all-mice_{}.pdf'.format(fname_sffx))\n",
    "\n",
    "#Plot the TCMs per mouse /condition / success \n",
    "usrplt.plot_transition_matrices_per_mouse(TCMs, data_df, TPM, SAVEFIG=True,PlotDir=SaveDir,\n",
    "                                          fname='transition-count-matrices_per-mouse_{}.pdf'.format(fname_sffx))\n",
    "\n",
    "## Plot example trajectories per trial\n",
    "usrplt.plot_example_state_sequences(trMAPs, trMasks, data_list, K, nTrials_plot = 100,SAVEFIG=True,PlotDir=SaveDir,\n",
    "                                    fname='state-sequences_{}.pdf'.format(fname_sffx))\n"
   ]
  },
  {
   "cell_type": "code",
   "execution_count": null,
   "metadata": {},
   "outputs": [],
   "source": []
  }
 ],
 "metadata": {
  "kernelspec": {
   "display_name": "Python 3",
   "language": "python",
   "name": "python3"
  },
  "language_info": {
   "codemirror_mode": {
    "name": "ipython",
    "version": 3
   },
   "file_extension": ".py",
   "mimetype": "text/x-python",
   "name": "python",
   "nbconvert_exporter": "python",
   "pygments_lexer": "ipython3",
   "version": "3.6.11"
  }
 },
 "nbformat": 4,
 "nbformat_minor": 4
}
